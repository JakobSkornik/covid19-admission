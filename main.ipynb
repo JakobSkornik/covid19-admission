{
 "cells": [
  {
   "cell_type": "markdown",
   "metadata": {},
   "source": [
    "# Predicting COVID-19 ICU Admission Using Neural Network"
   ]
  },
  {
   "cell_type": "markdown",
   "metadata": {},
   "source": [
    "## License\n",
    "\n",
    "The original dataset is under **Attribution-NonCommercial 4.0 (International CC BY-NC 4.0)** license.\n",
    "\n",
    "Dataset is free to **share** and **adapt** under the following terms:\n",
    "\n",
    "* credit to the original article is given and any changes are indicated (nothing has been changed as of 30/11/2021)\n",
    "* material is not used for commercial purposes \n",
    "\n",
    "Credit:\n",
    "\n",
    "* original material is published on [Kaggle](https://www.kaggle.com/) and accessible [here](https://www.kaggle.com/S%C3%ADrio-Libanes/covid19)."
   ]
  },
  {
   "cell_type": "markdown",
   "metadata": {},
   "source": [
    "## Intro\n",
    "\n",
    "This repository contains source code and report for a seminar paper in the context of the course *Machine Learning* in the winter semester 2021/2022 at Faculty of Computer and Information science, University of Ljubljana.\n",
    "\n",
    "The dataset contains anonymized data from Hospital Sírio-Libanês, São Paulo and Brasilia. \n",
    "\n",
    "### Context (*copied from the above-mentioned Kaggle article*)\n",
    "COVID-19 pandemic impacted the whole world, overwhelming healthcare systems - unprepared for such intense and lengthy request for ICU beds, professionals, personal protection equipment and healthcare resources.\n",
    "Brazil recorded first COVID-19 case on February 26 and reached community transmission on March 20."
   ]
  },
  {
   "cell_type": "markdown",
   "metadata": {},
   "source": [
    "## Task\n",
    "\n",
    "Predict admission to the ICU of confirmed COVID-19 cases.\n",
    "Based on the data available, is it feasible to predict which patients will need intensive care unit support?\n",
    "The aim is to provide tertiary and quarternary hospitals with the most accurate answer, so ICU resources can be arranged or patient transfer can be scheduled (*copied from Kaggle article*).\n",
    "\n",
    "## Dataset\n",
    "\n",
    "Data has been cleaned and scaled by column according to Min Max Scaler. In total, there are 54 features (expanded when pertinent to the mean, median, max, min, diff and relative diff). \n",
    "\n",
    "### Available Data\n",
    "\n",
    "Features in the dataset can be grouped in four groups.\n",
    "\n",
    "\n",
    "\n",
    "| Group | Amount of features |\n",
    "| ----- | :------------------: |\n",
    "| Demographics | 3 |\n",
    "| Grouped diseases | 9 |\n",
    "| Blood results | 36 |\n",
    "| Vital signs | 6 |\n",
    "| **Total**| **54** |\n",
    "\n",
    "\n",
    "\n",
    "### Window Concept\n",
    "\n",
    "Data for each patient has been grouped in five windows, each containing diagnostic results from the respective time window.\n",
    "\n",
    "\n",
    "\n",
    "| Window      | Description |\n",
    "| ----------- | ----------- |\n",
    "| 0-2         | From 0 to 2 hours of the admission |\n",
    "| 2-4         | From 2 to 4 hours of the admission |\n",
    "| 4-6         | From 4 to 6 hours of the admission |\n",
    "| 6-12        | From 6 to 12 hours of the admission |\n",
    "| Above 12    | Above 12 hours from admission |\n",
    "\n",
    "\n",
    "\n",
    "Kaggle article warns not to use data from the window where the target variable is 1. This means we need to manipulate our data a little. For example let's take a look at the following time tables:\n",
    "\n",
    "\n",
    "\n",
    "| Window      | Patient admitted to ICU | Data can be used for modelling | Target variable |\n",
    "| ----------- | :-----------: | :-----------: | :-----------: |\n",
    "| 0-2         | False | True | 1 |\n",
    "| 2-4         | False | True | 1 |\n",
    "| 4-6         | False | True | 1 |\n",
    "| 6-12        | True | False |  |\n",
    "| Above 12    | True | False |  |\n",
    "\n",
    "\n",
    "\n",
    "Patient is admitted in the fourth time window (6-12 from initial non-ICU admission). This means we can use data from the first three time windows with target variable being 1 (patient being admitted to the ICU ward).\n",
    "\n",
    "\n",
    "\n",
    "| Window      | Patient admitted to ICU | Data can be used for modelling | Target variable |\n",
    "| ----------- | :-----------: | :-----------: | :-----------: |\n",
    "| 0-2         | False | True | 0 |\n",
    "| 2-4         | False | True | 0 |\n",
    "| 4-6         | False | True | 0 |\n",
    "| 6-12        | False | True | 0 |\n",
    "| Above 12    | False | True | 0 |\n",
    "\n",
    "\n",
    "\n",
    "Patient is never admitted to the ICU, we can therefore use all time windows with target variable 0.\n",
    "\n",
    "### Null Values\n",
    "\n",
    "If we take a look at the following snippet from the original Kaggle article:\n",
    "\n",
    "```\n",
    "It is reasonable to assume that a patient who does not have a measurement recorded in a time window is clinically stable, potentially presenting vital signs and blood labs similar to neighboring windows. Therefore, one may fill the missing values using the next or previous entry. Attention to multicollinearity and zero variance issues in this data when choosing your algorithm.\n",
    "```\n",
    "\n",
    "We will be filling missing values from neighbouring cells, as specified in the snippet above."
   ]
  },
  {
   "cell_type": "markdown",
   "metadata": {},
   "source": [
    "## Import\n",
    "\n",
    "Before you begin to run your code, you need to load all required modules. Simply execute the code block below. This block also enables Jupyter's auto-reloading feature, so you dont need to re-import modules whenever you change them."
   ]
  },
  {
   "cell_type": "code",
   "execution_count": 76,
   "metadata": {},
   "outputs": [
    {
     "name": "stdout",
     "output_type": "stream",
     "text": [
      "The autoreload extension is already loaded. To reload it, use:\n",
      "  %reload_ext autoreload\n"
     ]
    }
   ],
   "source": [
    "# In order to import from the python file without hassle, we add the current\n",
    "# directory to the python path\n",
    "import sys; sys.path.append(\".\")\n",
    "\n",
    "# Auto-reload\n",
    "%load_ext autoreload\n",
    "%autoreload 2\n",
    "\n",
    "# Utilities module\n",
    "from src.utilities import *"
   ]
  },
  {
   "cell_type": "markdown",
   "metadata": {},
   "source": [
    "## Data Preparation\n",
    "\n",
    "Instructions on how to set up the environment are specified in the [README](https://github.com/JakobSkornik/covid19-admission/blob/main/README.md) file.\n",
    "\n",
    "The original dataset is provided in a single *xlsx* file. Let us first import the dataset and store it in a single pandas DataFrame."
   ]
  },
  {
   "cell_type": "code",
   "execution_count": 77,
   "metadata": {},
   "outputs": [
    {
     "data": {
      "text/html": [
       "<div>\n",
       "<style scoped>\n",
       "    .dataframe tbody tr th:only-of-type {\n",
       "        vertical-align: middle;\n",
       "    }\n",
       "\n",
       "    .dataframe tbody tr th {\n",
       "        vertical-align: top;\n",
       "    }\n",
       "\n",
       "    .dataframe thead th {\n",
       "        text-align: right;\n",
       "    }\n",
       "</style>\n",
       "<table border=\"1\" class=\"dataframe\">\n",
       "  <thead>\n",
       "    <tr style=\"text-align: right;\">\n",
       "      <th></th>\n",
       "      <th>PATIENT_VISIT_IDENTIFIER</th>\n",
       "      <th>AGE_ABOVE65</th>\n",
       "      <th>AGE_PERCENTIL</th>\n",
       "      <th>GENDER</th>\n",
       "      <th>DISEASE GROUPING 1</th>\n",
       "      <th>DISEASE GROUPING 2</th>\n",
       "      <th>DISEASE GROUPING 3</th>\n",
       "      <th>DISEASE GROUPING 4</th>\n",
       "      <th>DISEASE GROUPING 5</th>\n",
       "      <th>DISEASE GROUPING 6</th>\n",
       "      <th>...</th>\n",
       "      <th>TEMPERATURE_DIFF</th>\n",
       "      <th>OXYGEN_SATURATION_DIFF</th>\n",
       "      <th>BLOODPRESSURE_DIASTOLIC_DIFF_REL</th>\n",
       "      <th>BLOODPRESSURE_SISTOLIC_DIFF_REL</th>\n",
       "      <th>HEART_RATE_DIFF_REL</th>\n",
       "      <th>RESPIRATORY_RATE_DIFF_REL</th>\n",
       "      <th>TEMPERATURE_DIFF_REL</th>\n",
       "      <th>OXYGEN_SATURATION_DIFF_REL</th>\n",
       "      <th>WINDOW</th>\n",
       "      <th>ICU</th>\n",
       "    </tr>\n",
       "  </thead>\n",
       "  <tbody>\n",
       "    <tr>\n",
       "      <th>0</th>\n",
       "      <td>0</td>\n",
       "      <td>1</td>\n",
       "      <td>60th</td>\n",
       "      <td>0</td>\n",
       "      <td>0.0</td>\n",
       "      <td>0.0</td>\n",
       "      <td>0.0</td>\n",
       "      <td>0.0</td>\n",
       "      <td>1.0</td>\n",
       "      <td>1.0</td>\n",
       "      <td>...</td>\n",
       "      <td>-1.000000</td>\n",
       "      <td>-1.000000</td>\n",
       "      <td>-1.000000</td>\n",
       "      <td>-1.000000</td>\n",
       "      <td>-1.000000</td>\n",
       "      <td>-1.000000</td>\n",
       "      <td>-1.000000</td>\n",
       "      <td>-1.000000</td>\n",
       "      <td>0-2</td>\n",
       "      <td>0</td>\n",
       "    </tr>\n",
       "    <tr>\n",
       "      <th>1</th>\n",
       "      <td>0</td>\n",
       "      <td>1</td>\n",
       "      <td>60th</td>\n",
       "      <td>0</td>\n",
       "      <td>0.0</td>\n",
       "      <td>0.0</td>\n",
       "      <td>0.0</td>\n",
       "      <td>0.0</td>\n",
       "      <td>1.0</td>\n",
       "      <td>1.0</td>\n",
       "      <td>...</td>\n",
       "      <td>-1.000000</td>\n",
       "      <td>-1.000000</td>\n",
       "      <td>-1.000000</td>\n",
       "      <td>-1.000000</td>\n",
       "      <td>-1.000000</td>\n",
       "      <td>-1.000000</td>\n",
       "      <td>-1.000000</td>\n",
       "      <td>-1.000000</td>\n",
       "      <td>2-4</td>\n",
       "      <td>0</td>\n",
       "    </tr>\n",
       "    <tr>\n",
       "      <th>2</th>\n",
       "      <td>0</td>\n",
       "      <td>1</td>\n",
       "      <td>60th</td>\n",
       "      <td>0</td>\n",
       "      <td>0.0</td>\n",
       "      <td>0.0</td>\n",
       "      <td>0.0</td>\n",
       "      <td>0.0</td>\n",
       "      <td>1.0</td>\n",
       "      <td>1.0</td>\n",
       "      <td>...</td>\n",
       "      <td>NaN</td>\n",
       "      <td>NaN</td>\n",
       "      <td>NaN</td>\n",
       "      <td>NaN</td>\n",
       "      <td>NaN</td>\n",
       "      <td>NaN</td>\n",
       "      <td>NaN</td>\n",
       "      <td>NaN</td>\n",
       "      <td>4-6</td>\n",
       "      <td>0</td>\n",
       "    </tr>\n",
       "    <tr>\n",
       "      <th>3</th>\n",
       "      <td>0</td>\n",
       "      <td>1</td>\n",
       "      <td>60th</td>\n",
       "      <td>0</td>\n",
       "      <td>0.0</td>\n",
       "      <td>0.0</td>\n",
       "      <td>0.0</td>\n",
       "      <td>0.0</td>\n",
       "      <td>1.0</td>\n",
       "      <td>1.0</td>\n",
       "      <td>...</td>\n",
       "      <td>-1.000000</td>\n",
       "      <td>-1.000000</td>\n",
       "      <td>NaN</td>\n",
       "      <td>NaN</td>\n",
       "      <td>NaN</td>\n",
       "      <td>NaN</td>\n",
       "      <td>-1.000000</td>\n",
       "      <td>-1.000000</td>\n",
       "      <td>6-12</td>\n",
       "      <td>0</td>\n",
       "    </tr>\n",
       "    <tr>\n",
       "      <th>4</th>\n",
       "      <td>0</td>\n",
       "      <td>1</td>\n",
       "      <td>60th</td>\n",
       "      <td>0</td>\n",
       "      <td>0.0</td>\n",
       "      <td>0.0</td>\n",
       "      <td>0.0</td>\n",
       "      <td>0.0</td>\n",
       "      <td>1.0</td>\n",
       "      <td>1.0</td>\n",
       "      <td>...</td>\n",
       "      <td>-0.238095</td>\n",
       "      <td>-0.818182</td>\n",
       "      <td>-0.389967</td>\n",
       "      <td>0.407558</td>\n",
       "      <td>-0.230462</td>\n",
       "      <td>0.096774</td>\n",
       "      <td>-0.242282</td>\n",
       "      <td>-0.814433</td>\n",
       "      <td>ABOVE_12</td>\n",
       "      <td>1</td>\n",
       "    </tr>\n",
       "    <tr>\n",
       "      <th>5</th>\n",
       "      <td>1</td>\n",
       "      <td>1</td>\n",
       "      <td>90th</td>\n",
       "      <td>1</td>\n",
       "      <td>0.0</td>\n",
       "      <td>0.0</td>\n",
       "      <td>0.0</td>\n",
       "      <td>0.0</td>\n",
       "      <td>0.0</td>\n",
       "      <td>0.0</td>\n",
       "      <td>...</td>\n",
       "      <td>-1.000000</td>\n",
       "      <td>-1.000000</td>\n",
       "      <td>-1.000000</td>\n",
       "      <td>-1.000000</td>\n",
       "      <td>-1.000000</td>\n",
       "      <td>-1.000000</td>\n",
       "      <td>-1.000000</td>\n",
       "      <td>-1.000000</td>\n",
       "      <td>0-2</td>\n",
       "      <td>1</td>\n",
       "    </tr>\n",
       "    <tr>\n",
       "      <th>6</th>\n",
       "      <td>1</td>\n",
       "      <td>1</td>\n",
       "      <td>90th</td>\n",
       "      <td>1</td>\n",
       "      <td>0.0</td>\n",
       "      <td>0.0</td>\n",
       "      <td>0.0</td>\n",
       "      <td>0.0</td>\n",
       "      <td>0.0</td>\n",
       "      <td>0.0</td>\n",
       "      <td>...</td>\n",
       "      <td>-1.000000</td>\n",
       "      <td>-1.000000</td>\n",
       "      <td>-1.000000</td>\n",
       "      <td>-1.000000</td>\n",
       "      <td>-1.000000</td>\n",
       "      <td>-1.000000</td>\n",
       "      <td>-1.000000</td>\n",
       "      <td>-1.000000</td>\n",
       "      <td>2-4</td>\n",
       "      <td>1</td>\n",
       "    </tr>\n",
       "    <tr>\n",
       "      <th>7</th>\n",
       "      <td>1</td>\n",
       "      <td>1</td>\n",
       "      <td>90th</td>\n",
       "      <td>1</td>\n",
       "      <td>0.0</td>\n",
       "      <td>0.0</td>\n",
       "      <td>0.0</td>\n",
       "      <td>0.0</td>\n",
       "      <td>0.0</td>\n",
       "      <td>0.0</td>\n",
       "      <td>...</td>\n",
       "      <td>-1.000000</td>\n",
       "      <td>-1.000000</td>\n",
       "      <td>-1.000000</td>\n",
       "      <td>-1.000000</td>\n",
       "      <td>-1.000000</td>\n",
       "      <td>-1.000000</td>\n",
       "      <td>-1.000000</td>\n",
       "      <td>-1.000000</td>\n",
       "      <td>4-6</td>\n",
       "      <td>1</td>\n",
       "    </tr>\n",
       "    <tr>\n",
       "      <th>8</th>\n",
       "      <td>1</td>\n",
       "      <td>1</td>\n",
       "      <td>90th</td>\n",
       "      <td>1</td>\n",
       "      <td>0.0</td>\n",
       "      <td>0.0</td>\n",
       "      <td>0.0</td>\n",
       "      <td>0.0</td>\n",
       "      <td>0.0</td>\n",
       "      <td>0.0</td>\n",
       "      <td>...</td>\n",
       "      <td>-0.880952</td>\n",
       "      <td>-1.000000</td>\n",
       "      <td>-0.906832</td>\n",
       "      <td>-0.831132</td>\n",
       "      <td>-0.940967</td>\n",
       "      <td>-0.817204</td>\n",
       "      <td>-0.882574</td>\n",
       "      <td>-1.000000</td>\n",
       "      <td>6-12</td>\n",
       "      <td>1</td>\n",
       "    </tr>\n",
       "    <tr>\n",
       "      <th>9</th>\n",
       "      <td>1</td>\n",
       "      <td>1</td>\n",
       "      <td>90th</td>\n",
       "      <td>1</td>\n",
       "      <td>0.0</td>\n",
       "      <td>0.0</td>\n",
       "      <td>0.0</td>\n",
       "      <td>0.0</td>\n",
       "      <td>1.0</td>\n",
       "      <td>0.0</td>\n",
       "      <td>...</td>\n",
       "      <td>0.142857</td>\n",
       "      <td>-0.797980</td>\n",
       "      <td>0.315690</td>\n",
       "      <td>0.200359</td>\n",
       "      <td>-0.239515</td>\n",
       "      <td>0.645161</td>\n",
       "      <td>0.139709</td>\n",
       "      <td>-0.802317</td>\n",
       "      <td>ABOVE_12</td>\n",
       "      <td>1</td>\n",
       "    </tr>\n",
       "  </tbody>\n",
       "</table>\n",
       "<p>10 rows × 231 columns</p>\n",
       "</div>"
      ],
      "text/plain": [
       "   PATIENT_VISIT_IDENTIFIER  AGE_ABOVE65 AGE_PERCENTIL  GENDER  \\\n",
       "0                         0            1          60th       0   \n",
       "1                         0            1          60th       0   \n",
       "2                         0            1          60th       0   \n",
       "3                         0            1          60th       0   \n",
       "4                         0            1          60th       0   \n",
       "5                         1            1          90th       1   \n",
       "6                         1            1          90th       1   \n",
       "7                         1            1          90th       1   \n",
       "8                         1            1          90th       1   \n",
       "9                         1            1          90th       1   \n",
       "\n",
       "   DISEASE GROUPING 1  DISEASE GROUPING 2  DISEASE GROUPING 3  \\\n",
       "0                 0.0                 0.0                 0.0   \n",
       "1                 0.0                 0.0                 0.0   \n",
       "2                 0.0                 0.0                 0.0   \n",
       "3                 0.0                 0.0                 0.0   \n",
       "4                 0.0                 0.0                 0.0   \n",
       "5                 0.0                 0.0                 0.0   \n",
       "6                 0.0                 0.0                 0.0   \n",
       "7                 0.0                 0.0                 0.0   \n",
       "8                 0.0                 0.0                 0.0   \n",
       "9                 0.0                 0.0                 0.0   \n",
       "\n",
       "   DISEASE GROUPING 4  DISEASE GROUPING 5  DISEASE GROUPING 6  ...  \\\n",
       "0                 0.0                 1.0                 1.0  ...   \n",
       "1                 0.0                 1.0                 1.0  ...   \n",
       "2                 0.0                 1.0                 1.0  ...   \n",
       "3                 0.0                 1.0                 1.0  ...   \n",
       "4                 0.0                 1.0                 1.0  ...   \n",
       "5                 0.0                 0.0                 0.0  ...   \n",
       "6                 0.0                 0.0                 0.0  ...   \n",
       "7                 0.0                 0.0                 0.0  ...   \n",
       "8                 0.0                 0.0                 0.0  ...   \n",
       "9                 0.0                 1.0                 0.0  ...   \n",
       "\n",
       "   TEMPERATURE_DIFF  OXYGEN_SATURATION_DIFF  BLOODPRESSURE_DIASTOLIC_DIFF_REL  \\\n",
       "0         -1.000000               -1.000000                         -1.000000   \n",
       "1         -1.000000               -1.000000                         -1.000000   \n",
       "2               NaN                     NaN                               NaN   \n",
       "3         -1.000000               -1.000000                               NaN   \n",
       "4         -0.238095               -0.818182                         -0.389967   \n",
       "5         -1.000000               -1.000000                         -1.000000   \n",
       "6         -1.000000               -1.000000                         -1.000000   \n",
       "7         -1.000000               -1.000000                         -1.000000   \n",
       "8         -0.880952               -1.000000                         -0.906832   \n",
       "9          0.142857               -0.797980                          0.315690   \n",
       "\n",
       "   BLOODPRESSURE_SISTOLIC_DIFF_REL  HEART_RATE_DIFF_REL  \\\n",
       "0                        -1.000000            -1.000000   \n",
       "1                        -1.000000            -1.000000   \n",
       "2                              NaN                  NaN   \n",
       "3                              NaN                  NaN   \n",
       "4                         0.407558            -0.230462   \n",
       "5                        -1.000000            -1.000000   \n",
       "6                        -1.000000            -1.000000   \n",
       "7                        -1.000000            -1.000000   \n",
       "8                        -0.831132            -0.940967   \n",
       "9                         0.200359            -0.239515   \n",
       "\n",
       "   RESPIRATORY_RATE_DIFF_REL  TEMPERATURE_DIFF_REL  \\\n",
       "0                  -1.000000             -1.000000   \n",
       "1                  -1.000000             -1.000000   \n",
       "2                        NaN                   NaN   \n",
       "3                        NaN             -1.000000   \n",
       "4                   0.096774             -0.242282   \n",
       "5                  -1.000000             -1.000000   \n",
       "6                  -1.000000             -1.000000   \n",
       "7                  -1.000000             -1.000000   \n",
       "8                  -0.817204             -0.882574   \n",
       "9                   0.645161              0.139709   \n",
       "\n",
       "   OXYGEN_SATURATION_DIFF_REL    WINDOW  ICU  \n",
       "0                   -1.000000       0-2    0  \n",
       "1                   -1.000000       2-4    0  \n",
       "2                         NaN       4-6    0  \n",
       "3                   -1.000000      6-12    0  \n",
       "4                   -0.814433  ABOVE_12    1  \n",
       "5                   -1.000000       0-2    1  \n",
       "6                   -1.000000       2-4    1  \n",
       "7                   -1.000000       4-6    1  \n",
       "8                   -1.000000      6-12    1  \n",
       "9                   -0.802317  ABOVE_12    1  \n",
       "\n",
       "[10 rows x 231 columns]"
      ]
     },
     "execution_count": 77,
     "metadata": {},
     "output_type": "execute_result"
    }
   ],
   "source": [
    "# Load Excel into DataFrame\n",
    "dataset = load_xlsx(\"data/Kaggle_Sirio_Libanes_ICU_Prediction.xlsx\")\n",
    "\n",
    "# Print first 10 elements of DataFrame\n",
    "dataset.head(10)"
   ]
  },
  {
   "cell_type": "markdown",
   "metadata": {},
   "source": [
    "Lets take a look at the datatypes present in this dataset."
   ]
  },
  {
   "cell_type": "code",
   "execution_count": 78,
   "metadata": {},
   "outputs": [
    {
     "data": {
      "text/plain": [
       "array([dtype('int64'), dtype('O'), dtype('float64')], dtype=object)"
      ]
     },
     "execution_count": 78,
     "metadata": {},
     "output_type": "execute_result"
    }
   ],
   "source": [
    "dataset.dtypes.unique()"
   ]
  },
  {
   "cell_type": "markdown",
   "metadata": {},
   "source": []
  },
  {
   "cell_type": "markdown",
   "metadata": {},
   "source": [
    "The next thing we want to do, is to add the target variable to all the rows. If there's at least one positive value in the **ICU** column for a single patient, the target variable is 1.\n",
    "\n",
    "First we obtain the target variable for every patient."
   ]
  },
  {
   "cell_type": "code",
   "execution_count": 79,
   "metadata": {},
   "outputs": [
    {
     "data": {
      "text/html": [
       "<div>\n",
       "<style scoped>\n",
       "    .dataframe tbody tr th:only-of-type {\n",
       "        vertical-align: middle;\n",
       "    }\n",
       "\n",
       "    .dataframe tbody tr th {\n",
       "        vertical-align: top;\n",
       "    }\n",
       "\n",
       "    .dataframe thead th {\n",
       "        text-align: right;\n",
       "    }\n",
       "</style>\n",
       "<table border=\"1\" class=\"dataframe\">\n",
       "  <thead>\n",
       "    <tr style=\"text-align: right;\">\n",
       "      <th></th>\n",
       "      <th>PATIENT_VISIT_IDENTIFIER</th>\n",
       "      <th>TARGET</th>\n",
       "    </tr>\n",
       "  </thead>\n",
       "  <tbody>\n",
       "    <tr>\n",
       "      <th>0</th>\n",
       "      <td>0</td>\n",
       "      <td>1</td>\n",
       "    </tr>\n",
       "    <tr>\n",
       "      <th>1</th>\n",
       "      <td>1</td>\n",
       "      <td>1</td>\n",
       "    </tr>\n",
       "    <tr>\n",
       "      <th>2</th>\n",
       "      <td>2</td>\n",
       "      <td>1</td>\n",
       "    </tr>\n",
       "    <tr>\n",
       "      <th>3</th>\n",
       "      <td>3</td>\n",
       "      <td>0</td>\n",
       "    </tr>\n",
       "    <tr>\n",
       "      <th>4</th>\n",
       "      <td>4</td>\n",
       "      <td>0</td>\n",
       "    </tr>\n",
       "    <tr>\n",
       "      <th>5</th>\n",
       "      <td>5</td>\n",
       "      <td>0</td>\n",
       "    </tr>\n",
       "    <tr>\n",
       "      <th>6</th>\n",
       "      <td>6</td>\n",
       "      <td>0</td>\n",
       "    </tr>\n",
       "    <tr>\n",
       "      <th>7</th>\n",
       "      <td>7</td>\n",
       "      <td>0</td>\n",
       "    </tr>\n",
       "    <tr>\n",
       "      <th>8</th>\n",
       "      <td>8</td>\n",
       "      <td>0</td>\n",
       "    </tr>\n",
       "    <tr>\n",
       "      <th>9</th>\n",
       "      <td>9</td>\n",
       "      <td>0</td>\n",
       "    </tr>\n",
       "  </tbody>\n",
       "</table>\n",
       "</div>"
      ],
      "text/plain": [
       "   PATIENT_VISIT_IDENTIFIER  TARGET\n",
       "0                         0       1\n",
       "1                         1       1\n",
       "2                         2       1\n",
       "3                         3       0\n",
       "4                         4       0\n",
       "5                         5       0\n",
       "6                         6       0\n",
       "7                         7       0\n",
       "8                         8       0\n",
       "9                         9       0"
      ]
     },
     "execution_count": 79,
     "metadata": {},
     "output_type": "execute_result"
    }
   ],
   "source": [
    "# Create a df with PATIENT_ID/TARGET columns\n",
    "patient_target_df = get_target_variables(dataset)\n",
    "patient_target_df.head(10)"
   ]
  },
  {
   "cell_type": "markdown",
   "metadata": {},
   "source": [
    "Now we append target variable to each row of the **dataset** dataframe."
   ]
  },
  {
   "cell_type": "code",
   "execution_count": 80,
   "metadata": {},
   "outputs": [
    {
     "data": {
      "text/html": [
       "<div>\n",
       "<style scoped>\n",
       "    .dataframe tbody tr th:only-of-type {\n",
       "        vertical-align: middle;\n",
       "    }\n",
       "\n",
       "    .dataframe tbody tr th {\n",
       "        vertical-align: top;\n",
       "    }\n",
       "\n",
       "    .dataframe thead th {\n",
       "        text-align: right;\n",
       "    }\n",
       "</style>\n",
       "<table border=\"1\" class=\"dataframe\">\n",
       "  <thead>\n",
       "    <tr style=\"text-align: right;\">\n",
       "      <th></th>\n",
       "      <th>PATIENT_VISIT_IDENTIFIER</th>\n",
       "      <th>AGE_ABOVE65</th>\n",
       "      <th>AGE_PERCENTIL</th>\n",
       "      <th>GENDER</th>\n",
       "      <th>DISEASE GROUPING 1</th>\n",
       "      <th>DISEASE GROUPING 2</th>\n",
       "      <th>DISEASE GROUPING 3</th>\n",
       "      <th>DISEASE GROUPING 4</th>\n",
       "      <th>DISEASE GROUPING 5</th>\n",
       "      <th>DISEASE GROUPING 6</th>\n",
       "      <th>...</th>\n",
       "      <th>OXYGEN_SATURATION_DIFF</th>\n",
       "      <th>BLOODPRESSURE_DIASTOLIC_DIFF_REL</th>\n",
       "      <th>BLOODPRESSURE_SISTOLIC_DIFF_REL</th>\n",
       "      <th>HEART_RATE_DIFF_REL</th>\n",
       "      <th>RESPIRATORY_RATE_DIFF_REL</th>\n",
       "      <th>TEMPERATURE_DIFF_REL</th>\n",
       "      <th>OXYGEN_SATURATION_DIFF_REL</th>\n",
       "      <th>WINDOW</th>\n",
       "      <th>ICU</th>\n",
       "      <th>TARGET</th>\n",
       "    </tr>\n",
       "  </thead>\n",
       "  <tbody>\n",
       "    <tr>\n",
       "      <th>0</th>\n",
       "      <td>0</td>\n",
       "      <td>1</td>\n",
       "      <td>60th</td>\n",
       "      <td>0</td>\n",
       "      <td>0.0</td>\n",
       "      <td>0.0</td>\n",
       "      <td>0.0</td>\n",
       "      <td>0.0</td>\n",
       "      <td>1.0</td>\n",
       "      <td>1.0</td>\n",
       "      <td>...</td>\n",
       "      <td>-1.000000</td>\n",
       "      <td>-1.000000</td>\n",
       "      <td>-1.000000</td>\n",
       "      <td>-1.000000</td>\n",
       "      <td>-1.000000</td>\n",
       "      <td>-1.000000</td>\n",
       "      <td>-1.000000</td>\n",
       "      <td>0-2</td>\n",
       "      <td>0</td>\n",
       "      <td>1</td>\n",
       "    </tr>\n",
       "    <tr>\n",
       "      <th>1</th>\n",
       "      <td>0</td>\n",
       "      <td>1</td>\n",
       "      <td>60th</td>\n",
       "      <td>0</td>\n",
       "      <td>0.0</td>\n",
       "      <td>0.0</td>\n",
       "      <td>0.0</td>\n",
       "      <td>0.0</td>\n",
       "      <td>1.0</td>\n",
       "      <td>1.0</td>\n",
       "      <td>...</td>\n",
       "      <td>-1.000000</td>\n",
       "      <td>-1.000000</td>\n",
       "      <td>-1.000000</td>\n",
       "      <td>-1.000000</td>\n",
       "      <td>-1.000000</td>\n",
       "      <td>-1.000000</td>\n",
       "      <td>-1.000000</td>\n",
       "      <td>2-4</td>\n",
       "      <td>0</td>\n",
       "      <td>1</td>\n",
       "    </tr>\n",
       "    <tr>\n",
       "      <th>2</th>\n",
       "      <td>0</td>\n",
       "      <td>1</td>\n",
       "      <td>60th</td>\n",
       "      <td>0</td>\n",
       "      <td>0.0</td>\n",
       "      <td>0.0</td>\n",
       "      <td>0.0</td>\n",
       "      <td>0.0</td>\n",
       "      <td>1.0</td>\n",
       "      <td>1.0</td>\n",
       "      <td>...</td>\n",
       "      <td>NaN</td>\n",
       "      <td>NaN</td>\n",
       "      <td>NaN</td>\n",
       "      <td>NaN</td>\n",
       "      <td>NaN</td>\n",
       "      <td>NaN</td>\n",
       "      <td>NaN</td>\n",
       "      <td>4-6</td>\n",
       "      <td>0</td>\n",
       "      <td>1</td>\n",
       "    </tr>\n",
       "    <tr>\n",
       "      <th>3</th>\n",
       "      <td>0</td>\n",
       "      <td>1</td>\n",
       "      <td>60th</td>\n",
       "      <td>0</td>\n",
       "      <td>0.0</td>\n",
       "      <td>0.0</td>\n",
       "      <td>0.0</td>\n",
       "      <td>0.0</td>\n",
       "      <td>1.0</td>\n",
       "      <td>1.0</td>\n",
       "      <td>...</td>\n",
       "      <td>-1.000000</td>\n",
       "      <td>NaN</td>\n",
       "      <td>NaN</td>\n",
       "      <td>NaN</td>\n",
       "      <td>NaN</td>\n",
       "      <td>-1.000000</td>\n",
       "      <td>-1.000000</td>\n",
       "      <td>6-12</td>\n",
       "      <td>0</td>\n",
       "      <td>1</td>\n",
       "    </tr>\n",
       "    <tr>\n",
       "      <th>4</th>\n",
       "      <td>0</td>\n",
       "      <td>1</td>\n",
       "      <td>60th</td>\n",
       "      <td>0</td>\n",
       "      <td>0.0</td>\n",
       "      <td>0.0</td>\n",
       "      <td>0.0</td>\n",
       "      <td>0.0</td>\n",
       "      <td>1.0</td>\n",
       "      <td>1.0</td>\n",
       "      <td>...</td>\n",
       "      <td>-0.818182</td>\n",
       "      <td>-0.389967</td>\n",
       "      <td>0.407558</td>\n",
       "      <td>-0.230462</td>\n",
       "      <td>0.096774</td>\n",
       "      <td>-0.242282</td>\n",
       "      <td>-0.814433</td>\n",
       "      <td>ABOVE_12</td>\n",
       "      <td>1</td>\n",
       "      <td>1</td>\n",
       "    </tr>\n",
       "  </tbody>\n",
       "</table>\n",
       "<p>5 rows × 232 columns</p>\n",
       "</div>"
      ],
      "text/plain": [
       "   PATIENT_VISIT_IDENTIFIER  AGE_ABOVE65 AGE_PERCENTIL  GENDER  \\\n",
       "0                         0            1          60th       0   \n",
       "1                         0            1          60th       0   \n",
       "2                         0            1          60th       0   \n",
       "3                         0            1          60th       0   \n",
       "4                         0            1          60th       0   \n",
       "\n",
       "   DISEASE GROUPING 1  DISEASE GROUPING 2  DISEASE GROUPING 3  \\\n",
       "0                 0.0                 0.0                 0.0   \n",
       "1                 0.0                 0.0                 0.0   \n",
       "2                 0.0                 0.0                 0.0   \n",
       "3                 0.0                 0.0                 0.0   \n",
       "4                 0.0                 0.0                 0.0   \n",
       "\n",
       "   DISEASE GROUPING 4  DISEASE GROUPING 5  DISEASE GROUPING 6  ...  \\\n",
       "0                 0.0                 1.0                 1.0  ...   \n",
       "1                 0.0                 1.0                 1.0  ...   \n",
       "2                 0.0                 1.0                 1.0  ...   \n",
       "3                 0.0                 1.0                 1.0  ...   \n",
       "4                 0.0                 1.0                 1.0  ...   \n",
       "\n",
       "   OXYGEN_SATURATION_DIFF  BLOODPRESSURE_DIASTOLIC_DIFF_REL  \\\n",
       "0               -1.000000                         -1.000000   \n",
       "1               -1.000000                         -1.000000   \n",
       "2                     NaN                               NaN   \n",
       "3               -1.000000                               NaN   \n",
       "4               -0.818182                         -0.389967   \n",
       "\n",
       "   BLOODPRESSURE_SISTOLIC_DIFF_REL  HEART_RATE_DIFF_REL  \\\n",
       "0                        -1.000000            -1.000000   \n",
       "1                        -1.000000            -1.000000   \n",
       "2                              NaN                  NaN   \n",
       "3                              NaN                  NaN   \n",
       "4                         0.407558            -0.230462   \n",
       "\n",
       "   RESPIRATORY_RATE_DIFF_REL  TEMPERATURE_DIFF_REL  \\\n",
       "0                  -1.000000             -1.000000   \n",
       "1                  -1.000000             -1.000000   \n",
       "2                        NaN                   NaN   \n",
       "3                        NaN             -1.000000   \n",
       "4                   0.096774             -0.242282   \n",
       "\n",
       "   OXYGEN_SATURATION_DIFF_REL    WINDOW  ICU  TARGET  \n",
       "0                   -1.000000       0-2    0       1  \n",
       "1                   -1.000000       2-4    0       1  \n",
       "2                         NaN       4-6    0       1  \n",
       "3                   -1.000000      6-12    0       1  \n",
       "4                   -0.814433  ABOVE_12    1       1  \n",
       "\n",
       "[5 rows x 232 columns]"
      ]
     },
     "execution_count": 80,
     "metadata": {},
     "output_type": "execute_result"
    }
   ],
   "source": [
    "dataset = append_target_variable(dataset, patient_target_df)\n",
    "dataset.head()"
   ]
  },
  {
   "cell_type": "markdown",
   "metadata": {},
   "source": [
    "Now we can remove the rows, where dataset contains value 1 in the column **ICU**."
   ]
  },
  {
   "cell_type": "code",
   "execution_count": 81,
   "metadata": {},
   "outputs": [
    {
     "data": {
      "text/html": [
       "<div>\n",
       "<style scoped>\n",
       "    .dataframe tbody tr th:only-of-type {\n",
       "        vertical-align: middle;\n",
       "    }\n",
       "\n",
       "    .dataframe tbody tr th {\n",
       "        vertical-align: top;\n",
       "    }\n",
       "\n",
       "    .dataframe thead th {\n",
       "        text-align: right;\n",
       "    }\n",
       "</style>\n",
       "<table border=\"1\" class=\"dataframe\">\n",
       "  <thead>\n",
       "    <tr style=\"text-align: right;\">\n",
       "      <th></th>\n",
       "      <th>PATIENT_VISIT_IDENTIFIER</th>\n",
       "      <th>AGE_ABOVE65</th>\n",
       "      <th>AGE_PERCENTIL</th>\n",
       "      <th>GENDER</th>\n",
       "      <th>DISEASE GROUPING 1</th>\n",
       "      <th>DISEASE GROUPING 2</th>\n",
       "      <th>DISEASE GROUPING 3</th>\n",
       "      <th>DISEASE GROUPING 4</th>\n",
       "      <th>DISEASE GROUPING 5</th>\n",
       "      <th>DISEASE GROUPING 6</th>\n",
       "      <th>...</th>\n",
       "      <th>OXYGEN_SATURATION_DIFF</th>\n",
       "      <th>BLOODPRESSURE_DIASTOLIC_DIFF_REL</th>\n",
       "      <th>BLOODPRESSURE_SISTOLIC_DIFF_REL</th>\n",
       "      <th>HEART_RATE_DIFF_REL</th>\n",
       "      <th>RESPIRATORY_RATE_DIFF_REL</th>\n",
       "      <th>TEMPERATURE_DIFF_REL</th>\n",
       "      <th>OXYGEN_SATURATION_DIFF_REL</th>\n",
       "      <th>WINDOW</th>\n",
       "      <th>ICU</th>\n",
       "      <th>TARGET</th>\n",
       "    </tr>\n",
       "  </thead>\n",
       "  <tbody>\n",
       "    <tr>\n",
       "      <th>0</th>\n",
       "      <td>0</td>\n",
       "      <td>1</td>\n",
       "      <td>60th</td>\n",
       "      <td>0</td>\n",
       "      <td>0.0</td>\n",
       "      <td>0.0</td>\n",
       "      <td>0.0</td>\n",
       "      <td>0.0</td>\n",
       "      <td>1.0</td>\n",
       "      <td>1.0</td>\n",
       "      <td>...</td>\n",
       "      <td>-1.0</td>\n",
       "      <td>-1.0</td>\n",
       "      <td>-1.0</td>\n",
       "      <td>-1.0</td>\n",
       "      <td>-1.0</td>\n",
       "      <td>-1.0</td>\n",
       "      <td>-1.0</td>\n",
       "      <td>0-2</td>\n",
       "      <td>0</td>\n",
       "      <td>1</td>\n",
       "    </tr>\n",
       "    <tr>\n",
       "      <th>1</th>\n",
       "      <td>0</td>\n",
       "      <td>1</td>\n",
       "      <td>60th</td>\n",
       "      <td>0</td>\n",
       "      <td>0.0</td>\n",
       "      <td>0.0</td>\n",
       "      <td>0.0</td>\n",
       "      <td>0.0</td>\n",
       "      <td>1.0</td>\n",
       "      <td>1.0</td>\n",
       "      <td>...</td>\n",
       "      <td>-1.0</td>\n",
       "      <td>-1.0</td>\n",
       "      <td>-1.0</td>\n",
       "      <td>-1.0</td>\n",
       "      <td>-1.0</td>\n",
       "      <td>-1.0</td>\n",
       "      <td>-1.0</td>\n",
       "      <td>2-4</td>\n",
       "      <td>0</td>\n",
       "      <td>1</td>\n",
       "    </tr>\n",
       "    <tr>\n",
       "      <th>2</th>\n",
       "      <td>0</td>\n",
       "      <td>1</td>\n",
       "      <td>60th</td>\n",
       "      <td>0</td>\n",
       "      <td>0.0</td>\n",
       "      <td>0.0</td>\n",
       "      <td>0.0</td>\n",
       "      <td>0.0</td>\n",
       "      <td>1.0</td>\n",
       "      <td>1.0</td>\n",
       "      <td>...</td>\n",
       "      <td>NaN</td>\n",
       "      <td>NaN</td>\n",
       "      <td>NaN</td>\n",
       "      <td>NaN</td>\n",
       "      <td>NaN</td>\n",
       "      <td>NaN</td>\n",
       "      <td>NaN</td>\n",
       "      <td>4-6</td>\n",
       "      <td>0</td>\n",
       "      <td>1</td>\n",
       "    </tr>\n",
       "    <tr>\n",
       "      <th>3</th>\n",
       "      <td>0</td>\n",
       "      <td>1</td>\n",
       "      <td>60th</td>\n",
       "      <td>0</td>\n",
       "      <td>0.0</td>\n",
       "      <td>0.0</td>\n",
       "      <td>0.0</td>\n",
       "      <td>0.0</td>\n",
       "      <td>1.0</td>\n",
       "      <td>1.0</td>\n",
       "      <td>...</td>\n",
       "      <td>-1.0</td>\n",
       "      <td>NaN</td>\n",
       "      <td>NaN</td>\n",
       "      <td>NaN</td>\n",
       "      <td>NaN</td>\n",
       "      <td>-1.0</td>\n",
       "      <td>-1.0</td>\n",
       "      <td>6-12</td>\n",
       "      <td>0</td>\n",
       "      <td>1</td>\n",
       "    </tr>\n",
       "    <tr>\n",
       "      <th>10</th>\n",
       "      <td>2</td>\n",
       "      <td>0</td>\n",
       "      <td>10th</td>\n",
       "      <td>0</td>\n",
       "      <td>0.0</td>\n",
       "      <td>0.0</td>\n",
       "      <td>0.0</td>\n",
       "      <td>0.0</td>\n",
       "      <td>0.0</td>\n",
       "      <td>0.0</td>\n",
       "      <td>...</td>\n",
       "      <td>NaN</td>\n",
       "      <td>NaN</td>\n",
       "      <td>NaN</td>\n",
       "      <td>NaN</td>\n",
       "      <td>NaN</td>\n",
       "      <td>NaN</td>\n",
       "      <td>NaN</td>\n",
       "      <td>0-2</td>\n",
       "      <td>0</td>\n",
       "      <td>1</td>\n",
       "    </tr>\n",
       "  </tbody>\n",
       "</table>\n",
       "<p>5 rows × 232 columns</p>\n",
       "</div>"
      ],
      "text/plain": [
       "    PATIENT_VISIT_IDENTIFIER  AGE_ABOVE65 AGE_PERCENTIL  GENDER  \\\n",
       "0                          0            1          60th       0   \n",
       "1                          0            1          60th       0   \n",
       "2                          0            1          60th       0   \n",
       "3                          0            1          60th       0   \n",
       "10                         2            0          10th       0   \n",
       "\n",
       "    DISEASE GROUPING 1  DISEASE GROUPING 2  DISEASE GROUPING 3  \\\n",
       "0                  0.0                 0.0                 0.0   \n",
       "1                  0.0                 0.0                 0.0   \n",
       "2                  0.0                 0.0                 0.0   \n",
       "3                  0.0                 0.0                 0.0   \n",
       "10                 0.0                 0.0                 0.0   \n",
       "\n",
       "    DISEASE GROUPING 4  DISEASE GROUPING 5  DISEASE GROUPING 6  ...  \\\n",
       "0                  0.0                 1.0                 1.0  ...   \n",
       "1                  0.0                 1.0                 1.0  ...   \n",
       "2                  0.0                 1.0                 1.0  ...   \n",
       "3                  0.0                 1.0                 1.0  ...   \n",
       "10                 0.0                 0.0                 0.0  ...   \n",
       "\n",
       "    OXYGEN_SATURATION_DIFF  BLOODPRESSURE_DIASTOLIC_DIFF_REL  \\\n",
       "0                     -1.0                              -1.0   \n",
       "1                     -1.0                              -1.0   \n",
       "2                      NaN                               NaN   \n",
       "3                     -1.0                               NaN   \n",
       "10                     NaN                               NaN   \n",
       "\n",
       "    BLOODPRESSURE_SISTOLIC_DIFF_REL  HEART_RATE_DIFF_REL  \\\n",
       "0                              -1.0                 -1.0   \n",
       "1                              -1.0                 -1.0   \n",
       "2                               NaN                  NaN   \n",
       "3                               NaN                  NaN   \n",
       "10                              NaN                  NaN   \n",
       "\n",
       "    RESPIRATORY_RATE_DIFF_REL  TEMPERATURE_DIFF_REL  \\\n",
       "0                        -1.0                  -1.0   \n",
       "1                        -1.0                  -1.0   \n",
       "2                         NaN                   NaN   \n",
       "3                         NaN                  -1.0   \n",
       "10                        NaN                   NaN   \n",
       "\n",
       "    OXYGEN_SATURATION_DIFF_REL  WINDOW  ICU  TARGET  \n",
       "0                         -1.0     0-2    0       1  \n",
       "1                         -1.0     2-4    0       1  \n",
       "2                          NaN     4-6    0       1  \n",
       "3                         -1.0    6-12    0       1  \n",
       "10                         NaN     0-2    0       1  \n",
       "\n",
       "[5 rows x 232 columns]"
      ]
     },
     "execution_count": 81,
     "metadata": {},
     "output_type": "execute_result"
    }
   ],
   "source": [
    "dataset = dataset[dataset.ICU != 1]\n",
    "dataset.head()"
   ]
  },
  {
   "cell_type": "markdown",
   "metadata": {},
   "source": [
    "Next, we remove metadata column containing patient ID **PATIENT_VISIT_IDENTIFIER** and column **ICU**, since every row has the same ICU value 0."
   ]
  },
  {
   "cell_type": "code",
   "execution_count": 82,
   "metadata": {},
   "outputs": [
    {
     "data": {
      "text/html": [
       "<div>\n",
       "<style scoped>\n",
       "    .dataframe tbody tr th:only-of-type {\n",
       "        vertical-align: middle;\n",
       "    }\n",
       "\n",
       "    .dataframe tbody tr th {\n",
       "        vertical-align: top;\n",
       "    }\n",
       "\n",
       "    .dataframe thead th {\n",
       "        text-align: right;\n",
       "    }\n",
       "</style>\n",
       "<table border=\"1\" class=\"dataframe\">\n",
       "  <thead>\n",
       "    <tr style=\"text-align: right;\">\n",
       "      <th></th>\n",
       "      <th>AGE_ABOVE65</th>\n",
       "      <th>AGE_PERCENTIL</th>\n",
       "      <th>GENDER</th>\n",
       "      <th>DISEASE GROUPING 1</th>\n",
       "      <th>DISEASE GROUPING 2</th>\n",
       "      <th>DISEASE GROUPING 3</th>\n",
       "      <th>DISEASE GROUPING 4</th>\n",
       "      <th>DISEASE GROUPING 5</th>\n",
       "      <th>DISEASE GROUPING 6</th>\n",
       "      <th>HTN</th>\n",
       "      <th>...</th>\n",
       "      <th>TEMPERATURE_DIFF</th>\n",
       "      <th>OXYGEN_SATURATION_DIFF</th>\n",
       "      <th>BLOODPRESSURE_DIASTOLIC_DIFF_REL</th>\n",
       "      <th>BLOODPRESSURE_SISTOLIC_DIFF_REL</th>\n",
       "      <th>HEART_RATE_DIFF_REL</th>\n",
       "      <th>RESPIRATORY_RATE_DIFF_REL</th>\n",
       "      <th>TEMPERATURE_DIFF_REL</th>\n",
       "      <th>OXYGEN_SATURATION_DIFF_REL</th>\n",
       "      <th>WINDOW</th>\n",
       "      <th>TARGET</th>\n",
       "    </tr>\n",
       "  </thead>\n",
       "  <tbody>\n",
       "    <tr>\n",
       "      <th>0</th>\n",
       "      <td>1</td>\n",
       "      <td>60th</td>\n",
       "      <td>0</td>\n",
       "      <td>0.0</td>\n",
       "      <td>0.0</td>\n",
       "      <td>0.0</td>\n",
       "      <td>0.0</td>\n",
       "      <td>1.0</td>\n",
       "      <td>1.0</td>\n",
       "      <td>0.0</td>\n",
       "      <td>...</td>\n",
       "      <td>-1.0</td>\n",
       "      <td>-1.0</td>\n",
       "      <td>-1.0</td>\n",
       "      <td>-1.0</td>\n",
       "      <td>-1.0</td>\n",
       "      <td>-1.0</td>\n",
       "      <td>-1.0</td>\n",
       "      <td>-1.0</td>\n",
       "      <td>0-2</td>\n",
       "      <td>1</td>\n",
       "    </tr>\n",
       "    <tr>\n",
       "      <th>1</th>\n",
       "      <td>1</td>\n",
       "      <td>60th</td>\n",
       "      <td>0</td>\n",
       "      <td>0.0</td>\n",
       "      <td>0.0</td>\n",
       "      <td>0.0</td>\n",
       "      <td>0.0</td>\n",
       "      <td>1.0</td>\n",
       "      <td>1.0</td>\n",
       "      <td>0.0</td>\n",
       "      <td>...</td>\n",
       "      <td>-1.0</td>\n",
       "      <td>-1.0</td>\n",
       "      <td>-1.0</td>\n",
       "      <td>-1.0</td>\n",
       "      <td>-1.0</td>\n",
       "      <td>-1.0</td>\n",
       "      <td>-1.0</td>\n",
       "      <td>-1.0</td>\n",
       "      <td>2-4</td>\n",
       "      <td>1</td>\n",
       "    </tr>\n",
       "    <tr>\n",
       "      <th>2</th>\n",
       "      <td>1</td>\n",
       "      <td>60th</td>\n",
       "      <td>0</td>\n",
       "      <td>0.0</td>\n",
       "      <td>0.0</td>\n",
       "      <td>0.0</td>\n",
       "      <td>0.0</td>\n",
       "      <td>1.0</td>\n",
       "      <td>1.0</td>\n",
       "      <td>0.0</td>\n",
       "      <td>...</td>\n",
       "      <td>NaN</td>\n",
       "      <td>NaN</td>\n",
       "      <td>NaN</td>\n",
       "      <td>NaN</td>\n",
       "      <td>NaN</td>\n",
       "      <td>NaN</td>\n",
       "      <td>NaN</td>\n",
       "      <td>NaN</td>\n",
       "      <td>4-6</td>\n",
       "      <td>1</td>\n",
       "    </tr>\n",
       "    <tr>\n",
       "      <th>3</th>\n",
       "      <td>1</td>\n",
       "      <td>60th</td>\n",
       "      <td>0</td>\n",
       "      <td>0.0</td>\n",
       "      <td>0.0</td>\n",
       "      <td>0.0</td>\n",
       "      <td>0.0</td>\n",
       "      <td>1.0</td>\n",
       "      <td>1.0</td>\n",
       "      <td>0.0</td>\n",
       "      <td>...</td>\n",
       "      <td>-1.0</td>\n",
       "      <td>-1.0</td>\n",
       "      <td>NaN</td>\n",
       "      <td>NaN</td>\n",
       "      <td>NaN</td>\n",
       "      <td>NaN</td>\n",
       "      <td>-1.0</td>\n",
       "      <td>-1.0</td>\n",
       "      <td>6-12</td>\n",
       "      <td>1</td>\n",
       "    </tr>\n",
       "    <tr>\n",
       "      <th>10</th>\n",
       "      <td>0</td>\n",
       "      <td>10th</td>\n",
       "      <td>0</td>\n",
       "      <td>0.0</td>\n",
       "      <td>0.0</td>\n",
       "      <td>0.0</td>\n",
       "      <td>0.0</td>\n",
       "      <td>0.0</td>\n",
       "      <td>0.0</td>\n",
       "      <td>0.0</td>\n",
       "      <td>...</td>\n",
       "      <td>NaN</td>\n",
       "      <td>NaN</td>\n",
       "      <td>NaN</td>\n",
       "      <td>NaN</td>\n",
       "      <td>NaN</td>\n",
       "      <td>NaN</td>\n",
       "      <td>NaN</td>\n",
       "      <td>NaN</td>\n",
       "      <td>0-2</td>\n",
       "      <td>1</td>\n",
       "    </tr>\n",
       "  </tbody>\n",
       "</table>\n",
       "<p>5 rows × 230 columns</p>\n",
       "</div>"
      ],
      "text/plain": [
       "    AGE_ABOVE65 AGE_PERCENTIL  GENDER  DISEASE GROUPING 1  DISEASE GROUPING 2  \\\n",
       "0             1          60th       0                 0.0                 0.0   \n",
       "1             1          60th       0                 0.0                 0.0   \n",
       "2             1          60th       0                 0.0                 0.0   \n",
       "3             1          60th       0                 0.0                 0.0   \n",
       "10            0          10th       0                 0.0                 0.0   \n",
       "\n",
       "    DISEASE GROUPING 3  DISEASE GROUPING 4  DISEASE GROUPING 5  \\\n",
       "0                  0.0                 0.0                 1.0   \n",
       "1                  0.0                 0.0                 1.0   \n",
       "2                  0.0                 0.0                 1.0   \n",
       "3                  0.0                 0.0                 1.0   \n",
       "10                 0.0                 0.0                 0.0   \n",
       "\n",
       "    DISEASE GROUPING 6  HTN  ...  TEMPERATURE_DIFF  OXYGEN_SATURATION_DIFF  \\\n",
       "0                  1.0  0.0  ...              -1.0                    -1.0   \n",
       "1                  1.0  0.0  ...              -1.0                    -1.0   \n",
       "2                  1.0  0.0  ...               NaN                     NaN   \n",
       "3                  1.0  0.0  ...              -1.0                    -1.0   \n",
       "10                 0.0  0.0  ...               NaN                     NaN   \n",
       "\n",
       "    BLOODPRESSURE_DIASTOLIC_DIFF_REL  BLOODPRESSURE_SISTOLIC_DIFF_REL  \\\n",
       "0                               -1.0                             -1.0   \n",
       "1                               -1.0                             -1.0   \n",
       "2                                NaN                              NaN   \n",
       "3                                NaN                              NaN   \n",
       "10                               NaN                              NaN   \n",
       "\n",
       "    HEART_RATE_DIFF_REL  RESPIRATORY_RATE_DIFF_REL  TEMPERATURE_DIFF_REL  \\\n",
       "0                  -1.0                       -1.0                  -1.0   \n",
       "1                  -1.0                       -1.0                  -1.0   \n",
       "2                   NaN                        NaN                   NaN   \n",
       "3                   NaN                        NaN                  -1.0   \n",
       "10                  NaN                        NaN                   NaN   \n",
       "\n",
       "    OXYGEN_SATURATION_DIFF_REL  WINDOW  TARGET  \n",
       "0                         -1.0     0-2       1  \n",
       "1                         -1.0     2-4       1  \n",
       "2                          NaN     4-6       1  \n",
       "3                         -1.0    6-12       1  \n",
       "10                         NaN     0-2       1  \n",
       "\n",
       "[5 rows x 230 columns]"
      ]
     },
     "execution_count": 82,
     "metadata": {},
     "output_type": "execute_result"
    }
   ],
   "source": [
    "dataset = dataset.drop([\"PATIENT_VISIT_IDENTIFIER\", \"ICU\"], axis=1)\n",
    "dataset.head()"
   ]
  },
  {
   "cell_type": "markdown",
   "metadata": {},
   "source": [
    "We still have to deal with null values. As specified above, we will fill null values with neighbouring values. We can take advantage of the **pd.DataFrame.fillna** method."
   ]
  },
  {
   "cell_type": "code",
   "execution_count": 83,
   "metadata": {},
   "outputs": [],
   "source": [
    "dataset = dataset.fillna(method=\"bfill\")"
   ]
  },
  {
   "cell_type": "markdown",
   "metadata": {},
   "source": [
    "There are still whitespace characters in column names, so we replace them with underscores."
   ]
  },
  {
   "cell_type": "code",
   "execution_count": 84,
   "metadata": {},
   "outputs": [
    {
     "data": {
      "text/html": [
       "<div>\n",
       "<style scoped>\n",
       "    .dataframe tbody tr th:only-of-type {\n",
       "        vertical-align: middle;\n",
       "    }\n",
       "\n",
       "    .dataframe tbody tr th {\n",
       "        vertical-align: top;\n",
       "    }\n",
       "\n",
       "    .dataframe thead th {\n",
       "        text-align: right;\n",
       "    }\n",
       "</style>\n",
       "<table border=\"1\" class=\"dataframe\">\n",
       "  <thead>\n",
       "    <tr style=\"text-align: right;\">\n",
       "      <th></th>\n",
       "      <th>AGE_ABOVE65</th>\n",
       "      <th>AGE_PERCENTIL</th>\n",
       "      <th>GENDER</th>\n",
       "      <th>DISEASE_GROUPING_1</th>\n",
       "      <th>DISEASE_GROUPING_2</th>\n",
       "      <th>DISEASE_GROUPING_3</th>\n",
       "      <th>DISEASE_GROUPING_4</th>\n",
       "      <th>DISEASE_GROUPING_5</th>\n",
       "      <th>DISEASE_GROUPING_6</th>\n",
       "      <th>HTN</th>\n",
       "      <th>...</th>\n",
       "      <th>TEMPERATURE_DIFF</th>\n",
       "      <th>OXYGEN_SATURATION_DIFF</th>\n",
       "      <th>BLOODPRESSURE_DIASTOLIC_DIFF_REL</th>\n",
       "      <th>BLOODPRESSURE_SISTOLIC_DIFF_REL</th>\n",
       "      <th>HEART_RATE_DIFF_REL</th>\n",
       "      <th>RESPIRATORY_RATE_DIFF_REL</th>\n",
       "      <th>TEMPERATURE_DIFF_REL</th>\n",
       "      <th>OXYGEN_SATURATION_DIFF_REL</th>\n",
       "      <th>WINDOW</th>\n",
       "      <th>TARGET</th>\n",
       "    </tr>\n",
       "  </thead>\n",
       "  <tbody>\n",
       "    <tr>\n",
       "      <th>0</th>\n",
       "      <td>1</td>\n",
       "      <td>60th</td>\n",
       "      <td>0</td>\n",
       "      <td>0.0</td>\n",
       "      <td>0.0</td>\n",
       "      <td>0.0</td>\n",
       "      <td>0.0</td>\n",
       "      <td>1.0</td>\n",
       "      <td>1.0</td>\n",
       "      <td>0.0</td>\n",
       "      <td>...</td>\n",
       "      <td>-1.0</td>\n",
       "      <td>-1.000000</td>\n",
       "      <td>-1.000000</td>\n",
       "      <td>-1.000000</td>\n",
       "      <td>-1.000000</td>\n",
       "      <td>-1.000000</td>\n",
       "      <td>-1.0</td>\n",
       "      <td>-1.000000</td>\n",
       "      <td>0-2</td>\n",
       "      <td>1</td>\n",
       "    </tr>\n",
       "    <tr>\n",
       "      <th>1</th>\n",
       "      <td>1</td>\n",
       "      <td>60th</td>\n",
       "      <td>0</td>\n",
       "      <td>0.0</td>\n",
       "      <td>0.0</td>\n",
       "      <td>0.0</td>\n",
       "      <td>0.0</td>\n",
       "      <td>1.0</td>\n",
       "      <td>1.0</td>\n",
       "      <td>0.0</td>\n",
       "      <td>...</td>\n",
       "      <td>-1.0</td>\n",
       "      <td>-1.000000</td>\n",
       "      <td>-1.000000</td>\n",
       "      <td>-1.000000</td>\n",
       "      <td>-1.000000</td>\n",
       "      <td>-1.000000</td>\n",
       "      <td>-1.0</td>\n",
       "      <td>-1.000000</td>\n",
       "      <td>2-4</td>\n",
       "      <td>1</td>\n",
       "    </tr>\n",
       "    <tr>\n",
       "      <th>2</th>\n",
       "      <td>1</td>\n",
       "      <td>60th</td>\n",
       "      <td>0</td>\n",
       "      <td>0.0</td>\n",
       "      <td>0.0</td>\n",
       "      <td>0.0</td>\n",
       "      <td>0.0</td>\n",
       "      <td>1.0</td>\n",
       "      <td>1.0</td>\n",
       "      <td>0.0</td>\n",
       "      <td>...</td>\n",
       "      <td>-1.0</td>\n",
       "      <td>-1.000000</td>\n",
       "      <td>-0.515528</td>\n",
       "      <td>-0.351328</td>\n",
       "      <td>-0.747001</td>\n",
       "      <td>-0.756272</td>\n",
       "      <td>-1.0</td>\n",
       "      <td>-1.000000</td>\n",
       "      <td>4-6</td>\n",
       "      <td>1</td>\n",
       "    </tr>\n",
       "    <tr>\n",
       "      <th>3</th>\n",
       "      <td>1</td>\n",
       "      <td>60th</td>\n",
       "      <td>0</td>\n",
       "      <td>0.0</td>\n",
       "      <td>0.0</td>\n",
       "      <td>0.0</td>\n",
       "      <td>0.0</td>\n",
       "      <td>1.0</td>\n",
       "      <td>1.0</td>\n",
       "      <td>0.0</td>\n",
       "      <td>...</td>\n",
       "      <td>-1.0</td>\n",
       "      <td>-1.000000</td>\n",
       "      <td>-0.515528</td>\n",
       "      <td>-0.351328</td>\n",
       "      <td>-0.747001</td>\n",
       "      <td>-0.756272</td>\n",
       "      <td>-1.0</td>\n",
       "      <td>-1.000000</td>\n",
       "      <td>6-12</td>\n",
       "      <td>1</td>\n",
       "    </tr>\n",
       "    <tr>\n",
       "      <th>10</th>\n",
       "      <td>0</td>\n",
       "      <td>10th</td>\n",
       "      <td>0</td>\n",
       "      <td>0.0</td>\n",
       "      <td>0.0</td>\n",
       "      <td>0.0</td>\n",
       "      <td>0.0</td>\n",
       "      <td>0.0</td>\n",
       "      <td>0.0</td>\n",
       "      <td>0.0</td>\n",
       "      <td>...</td>\n",
       "      <td>-1.0</td>\n",
       "      <td>-0.959596</td>\n",
       "      <td>-0.515528</td>\n",
       "      <td>-0.351328</td>\n",
       "      <td>-0.747001</td>\n",
       "      <td>-0.756272</td>\n",
       "      <td>-1.0</td>\n",
       "      <td>-0.961262</td>\n",
       "      <td>0-2</td>\n",
       "      <td>1</td>\n",
       "    </tr>\n",
       "  </tbody>\n",
       "</table>\n",
       "<p>5 rows × 230 columns</p>\n",
       "</div>"
      ],
      "text/plain": [
       "    AGE_ABOVE65 AGE_PERCENTIL  GENDER  DISEASE_GROUPING_1  DISEASE_GROUPING_2  \\\n",
       "0             1          60th       0                 0.0                 0.0   \n",
       "1             1          60th       0                 0.0                 0.0   \n",
       "2             1          60th       0                 0.0                 0.0   \n",
       "3             1          60th       0                 0.0                 0.0   \n",
       "10            0          10th       0                 0.0                 0.0   \n",
       "\n",
       "    DISEASE_GROUPING_3  DISEASE_GROUPING_4  DISEASE_GROUPING_5  \\\n",
       "0                  0.0                 0.0                 1.0   \n",
       "1                  0.0                 0.0                 1.0   \n",
       "2                  0.0                 0.0                 1.0   \n",
       "3                  0.0                 0.0                 1.0   \n",
       "10                 0.0                 0.0                 0.0   \n",
       "\n",
       "    DISEASE_GROUPING_6  HTN  ...  TEMPERATURE_DIFF  OXYGEN_SATURATION_DIFF  \\\n",
       "0                  1.0  0.0  ...              -1.0               -1.000000   \n",
       "1                  1.0  0.0  ...              -1.0               -1.000000   \n",
       "2                  1.0  0.0  ...              -1.0               -1.000000   \n",
       "3                  1.0  0.0  ...              -1.0               -1.000000   \n",
       "10                 0.0  0.0  ...              -1.0               -0.959596   \n",
       "\n",
       "    BLOODPRESSURE_DIASTOLIC_DIFF_REL  BLOODPRESSURE_SISTOLIC_DIFF_REL  \\\n",
       "0                          -1.000000                        -1.000000   \n",
       "1                          -1.000000                        -1.000000   \n",
       "2                          -0.515528                        -0.351328   \n",
       "3                          -0.515528                        -0.351328   \n",
       "10                         -0.515528                        -0.351328   \n",
       "\n",
       "    HEART_RATE_DIFF_REL  RESPIRATORY_RATE_DIFF_REL  TEMPERATURE_DIFF_REL  \\\n",
       "0             -1.000000                  -1.000000                  -1.0   \n",
       "1             -1.000000                  -1.000000                  -1.0   \n",
       "2             -0.747001                  -0.756272                  -1.0   \n",
       "3             -0.747001                  -0.756272                  -1.0   \n",
       "10            -0.747001                  -0.756272                  -1.0   \n",
       "\n",
       "    OXYGEN_SATURATION_DIFF_REL  WINDOW  TARGET  \n",
       "0                    -1.000000     0-2       1  \n",
       "1                    -1.000000     2-4       1  \n",
       "2                    -1.000000     4-6       1  \n",
       "3                    -1.000000    6-12       1  \n",
       "10                   -0.961262     0-2       1  \n",
       "\n",
       "[5 rows x 230 columns]"
      ]
     },
     "execution_count": 84,
     "metadata": {},
     "output_type": "execute_result"
    }
   ],
   "source": [
    "dataset.columns = dataset.columns.str.replace(\" \", \"_\")\n",
    "dataset.head()"
   ]
  },
  {
   "cell_type": "markdown",
   "metadata": {},
   "source": [
    "We also need to encode the **AGE_PERCENTIL** column. We can see that there are 10 distinct values."
   ]
  },
  {
   "cell_type": "code",
   "execution_count": 85,
   "metadata": {},
   "outputs": [
    {
     "data": {
      "text/plain": [
       "array(['60th', '10th', '40th', '70th', '20th', '50th', '80th', '30th',\n",
       "       '90th', 'Above 90th'], dtype=object)"
      ]
     },
     "execution_count": 85,
     "metadata": {},
     "output_type": "execute_result"
    }
   ],
   "source": [
    "dataset.AGE_PERCENTIL.unique()"
   ]
  },
  {
   "cell_type": "markdown",
   "metadata": {},
   "source": [
    "We can use pandas.get_dummies method, which will map a single column with n possible values, into n different binary columns. Column representing the original value, will contain value 1.\n",
    "\n",
    "For example the following column:\n",
    "\n",
    "| Value |\n",
    "| :----: |\n",
    "| a |\n",
    "| b |\n",
    "| c |\n",
    "| a |\n",
    "| a |\n",
    "\n",
    "will get mapped into:\n",
    "\n",
    "| Value_a | Value_b | Value_c |\n",
    "| :---: | :---: | :---: |\n",
    "| 1 | 0 | 0 |\n",
    "| 0 | 1 | 0 |\n",
    "| 0 | 0 | 1 |\n",
    "| 1 | 0 | 0 |\n",
    "| 1 | 0 | 0 |"
   ]
  },
  {
   "cell_type": "code",
   "execution_count": 86,
   "metadata": {},
   "outputs": [
    {
     "data": {
      "text/html": [
       "<div>\n",
       "<style scoped>\n",
       "    .dataframe tbody tr th:only-of-type {\n",
       "        vertical-align: middle;\n",
       "    }\n",
       "\n",
       "    .dataframe tbody tr th {\n",
       "        vertical-align: top;\n",
       "    }\n",
       "\n",
       "    .dataframe thead th {\n",
       "        text-align: right;\n",
       "    }\n",
       "</style>\n",
       "<table border=\"1\" class=\"dataframe\">\n",
       "  <thead>\n",
       "    <tr style=\"text-align: right;\">\n",
       "      <th></th>\n",
       "      <th>AGE_ABOVE65</th>\n",
       "      <th>GENDER</th>\n",
       "      <th>DISEASE_GROUPING_1</th>\n",
       "      <th>DISEASE_GROUPING_2</th>\n",
       "      <th>DISEASE_GROUPING_3</th>\n",
       "      <th>DISEASE_GROUPING_4</th>\n",
       "      <th>DISEASE_GROUPING_5</th>\n",
       "      <th>DISEASE_GROUPING_6</th>\n",
       "      <th>HTN</th>\n",
       "      <th>IMMUNOCOMPROMISED</th>\n",
       "      <th>...</th>\n",
       "      <th>TARGET</th>\n",
       "      <th>AGE_PERCENTIL_20th</th>\n",
       "      <th>AGE_PERCENTIL_30th</th>\n",
       "      <th>AGE_PERCENTIL_40th</th>\n",
       "      <th>AGE_PERCENTIL_50th</th>\n",
       "      <th>AGE_PERCENTIL_60th</th>\n",
       "      <th>AGE_PERCENTIL_70th</th>\n",
       "      <th>AGE_PERCENTIL_80th</th>\n",
       "      <th>AGE_PERCENTIL_90th</th>\n",
       "      <th>AGE_PERCENTIL_Above 90th</th>\n",
       "    </tr>\n",
       "  </thead>\n",
       "  <tbody>\n",
       "    <tr>\n",
       "      <th>0</th>\n",
       "      <td>1</td>\n",
       "      <td>0</td>\n",
       "      <td>0.0</td>\n",
       "      <td>0.0</td>\n",
       "      <td>0.0</td>\n",
       "      <td>0.0</td>\n",
       "      <td>1.0</td>\n",
       "      <td>1.0</td>\n",
       "      <td>0.0</td>\n",
       "      <td>0.0</td>\n",
       "      <td>...</td>\n",
       "      <td>1</td>\n",
       "      <td>0</td>\n",
       "      <td>0</td>\n",
       "      <td>0</td>\n",
       "      <td>0</td>\n",
       "      <td>1</td>\n",
       "      <td>0</td>\n",
       "      <td>0</td>\n",
       "      <td>0</td>\n",
       "      <td>0</td>\n",
       "    </tr>\n",
       "    <tr>\n",
       "      <th>1</th>\n",
       "      <td>1</td>\n",
       "      <td>0</td>\n",
       "      <td>0.0</td>\n",
       "      <td>0.0</td>\n",
       "      <td>0.0</td>\n",
       "      <td>0.0</td>\n",
       "      <td>1.0</td>\n",
       "      <td>1.0</td>\n",
       "      <td>0.0</td>\n",
       "      <td>0.0</td>\n",
       "      <td>...</td>\n",
       "      <td>1</td>\n",
       "      <td>0</td>\n",
       "      <td>0</td>\n",
       "      <td>0</td>\n",
       "      <td>0</td>\n",
       "      <td>1</td>\n",
       "      <td>0</td>\n",
       "      <td>0</td>\n",
       "      <td>0</td>\n",
       "      <td>0</td>\n",
       "    </tr>\n",
       "    <tr>\n",
       "      <th>2</th>\n",
       "      <td>1</td>\n",
       "      <td>0</td>\n",
       "      <td>0.0</td>\n",
       "      <td>0.0</td>\n",
       "      <td>0.0</td>\n",
       "      <td>0.0</td>\n",
       "      <td>1.0</td>\n",
       "      <td>1.0</td>\n",
       "      <td>0.0</td>\n",
       "      <td>0.0</td>\n",
       "      <td>...</td>\n",
       "      <td>1</td>\n",
       "      <td>0</td>\n",
       "      <td>0</td>\n",
       "      <td>0</td>\n",
       "      <td>0</td>\n",
       "      <td>1</td>\n",
       "      <td>0</td>\n",
       "      <td>0</td>\n",
       "      <td>0</td>\n",
       "      <td>0</td>\n",
       "    </tr>\n",
       "    <tr>\n",
       "      <th>3</th>\n",
       "      <td>1</td>\n",
       "      <td>0</td>\n",
       "      <td>0.0</td>\n",
       "      <td>0.0</td>\n",
       "      <td>0.0</td>\n",
       "      <td>0.0</td>\n",
       "      <td>1.0</td>\n",
       "      <td>1.0</td>\n",
       "      <td>0.0</td>\n",
       "      <td>0.0</td>\n",
       "      <td>...</td>\n",
       "      <td>1</td>\n",
       "      <td>0</td>\n",
       "      <td>0</td>\n",
       "      <td>0</td>\n",
       "      <td>0</td>\n",
       "      <td>1</td>\n",
       "      <td>0</td>\n",
       "      <td>0</td>\n",
       "      <td>0</td>\n",
       "      <td>0</td>\n",
       "    </tr>\n",
       "    <tr>\n",
       "      <th>10</th>\n",
       "      <td>0</td>\n",
       "      <td>0</td>\n",
       "      <td>0.0</td>\n",
       "      <td>0.0</td>\n",
       "      <td>0.0</td>\n",
       "      <td>0.0</td>\n",
       "      <td>0.0</td>\n",
       "      <td>0.0</td>\n",
       "      <td>0.0</td>\n",
       "      <td>0.0</td>\n",
       "      <td>...</td>\n",
       "      <td>1</td>\n",
       "      <td>0</td>\n",
       "      <td>0</td>\n",
       "      <td>0</td>\n",
       "      <td>0</td>\n",
       "      <td>0</td>\n",
       "      <td>0</td>\n",
       "      <td>0</td>\n",
       "      <td>0</td>\n",
       "      <td>0</td>\n",
       "    </tr>\n",
       "  </tbody>\n",
       "</table>\n",
       "<p>5 rows × 238 columns</p>\n",
       "</div>"
      ],
      "text/plain": [
       "    AGE_ABOVE65  GENDER  DISEASE_GROUPING_1  DISEASE_GROUPING_2  \\\n",
       "0             1       0                 0.0                 0.0   \n",
       "1             1       0                 0.0                 0.0   \n",
       "2             1       0                 0.0                 0.0   \n",
       "3             1       0                 0.0                 0.0   \n",
       "10            0       0                 0.0                 0.0   \n",
       "\n",
       "    DISEASE_GROUPING_3  DISEASE_GROUPING_4  DISEASE_GROUPING_5  \\\n",
       "0                  0.0                 0.0                 1.0   \n",
       "1                  0.0                 0.0                 1.0   \n",
       "2                  0.0                 0.0                 1.0   \n",
       "3                  0.0                 0.0                 1.0   \n",
       "10                 0.0                 0.0                 0.0   \n",
       "\n",
       "    DISEASE_GROUPING_6  HTN  IMMUNOCOMPROMISED  ...  TARGET  \\\n",
       "0                  1.0  0.0                0.0  ...       1   \n",
       "1                  1.0  0.0                0.0  ...       1   \n",
       "2                  1.0  0.0                0.0  ...       1   \n",
       "3                  1.0  0.0                0.0  ...       1   \n",
       "10                 0.0  0.0                0.0  ...       1   \n",
       "\n",
       "    AGE_PERCENTIL_20th  AGE_PERCENTIL_30th  AGE_PERCENTIL_40th  \\\n",
       "0                    0                   0                   0   \n",
       "1                    0                   0                   0   \n",
       "2                    0                   0                   0   \n",
       "3                    0                   0                   0   \n",
       "10                   0                   0                   0   \n",
       "\n",
       "    AGE_PERCENTIL_50th  AGE_PERCENTIL_60th  AGE_PERCENTIL_70th  \\\n",
       "0                    0                   1                   0   \n",
       "1                    0                   1                   0   \n",
       "2                    0                   1                   0   \n",
       "3                    0                   1                   0   \n",
       "10                   0                   0                   0   \n",
       "\n",
       "    AGE_PERCENTIL_80th  AGE_PERCENTIL_90th  AGE_PERCENTIL_Above 90th  \n",
       "0                    0                   0                         0  \n",
       "1                    0                   0                         0  \n",
       "2                    0                   0                         0  \n",
       "3                    0                   0                         0  \n",
       "10                   0                   0                         0  \n",
       "\n",
       "[5 rows x 238 columns]"
      ]
     },
     "execution_count": 86,
     "metadata": {},
     "output_type": "execute_result"
    }
   ],
   "source": [
    "dataset = get_dummies(dataset, cols=[\"AGE_PERCENTIL\"])\n",
    "dataset.head()"
   ]
  },
  {
   "cell_type": "markdown",
   "metadata": {},
   "source": [
    "The final non-numeric column is the **WINDOW** column. Using this column, we can create 6 different datasets. There are five windows, so we can use each distinct value as a separate dataset and an additional dataset with all time windows. I will show the example for window 2-4. Keep in mind, when we create a dataset for a window, all previous windows must be included aswell.\n",
    "\n",
    "After we extract a dataset for a desired window, **WINDOW** column can be dropped.\n",
    "\n",
    "All datasets will then be created and stored in a new object, with all required metadata using a helper method."
   ]
  },
  {
   "cell_type": "code",
   "execution_count": 87,
   "metadata": {},
   "outputs": [
    {
     "data": {
      "text/html": [
       "<div>\n",
       "<style scoped>\n",
       "    .dataframe tbody tr th:only-of-type {\n",
       "        vertical-align: middle;\n",
       "    }\n",
       "\n",
       "    .dataframe tbody tr th {\n",
       "        vertical-align: top;\n",
       "    }\n",
       "\n",
       "    .dataframe thead th {\n",
       "        text-align: right;\n",
       "    }\n",
       "</style>\n",
       "<table border=\"1\" class=\"dataframe\">\n",
       "  <thead>\n",
       "    <tr style=\"text-align: right;\">\n",
       "      <th></th>\n",
       "      <th>AGE_ABOVE65</th>\n",
       "      <th>GENDER</th>\n",
       "      <th>DISEASE_GROUPING_1</th>\n",
       "      <th>DISEASE_GROUPING_2</th>\n",
       "      <th>DISEASE_GROUPING_3</th>\n",
       "      <th>DISEASE_GROUPING_4</th>\n",
       "      <th>DISEASE_GROUPING_5</th>\n",
       "      <th>DISEASE_GROUPING_6</th>\n",
       "      <th>HTN</th>\n",
       "      <th>IMMUNOCOMPROMISED</th>\n",
       "      <th>...</th>\n",
       "      <th>TARGET</th>\n",
       "      <th>AGE_PERCENTIL_20th</th>\n",
       "      <th>AGE_PERCENTIL_30th</th>\n",
       "      <th>AGE_PERCENTIL_40th</th>\n",
       "      <th>AGE_PERCENTIL_50th</th>\n",
       "      <th>AGE_PERCENTIL_60th</th>\n",
       "      <th>AGE_PERCENTIL_70th</th>\n",
       "      <th>AGE_PERCENTIL_80th</th>\n",
       "      <th>AGE_PERCENTIL_90th</th>\n",
       "      <th>AGE_PERCENTIL_Above 90th</th>\n",
       "    </tr>\n",
       "  </thead>\n",
       "  <tbody>\n",
       "    <tr>\n",
       "      <th>0</th>\n",
       "      <td>1</td>\n",
       "      <td>0</td>\n",
       "      <td>0.0</td>\n",
       "      <td>0.0</td>\n",
       "      <td>0.0</td>\n",
       "      <td>0.0</td>\n",
       "      <td>1.0</td>\n",
       "      <td>1.0</td>\n",
       "      <td>0.0</td>\n",
       "      <td>0.0</td>\n",
       "      <td>...</td>\n",
       "      <td>1</td>\n",
       "      <td>0</td>\n",
       "      <td>0</td>\n",
       "      <td>0</td>\n",
       "      <td>0</td>\n",
       "      <td>1</td>\n",
       "      <td>0</td>\n",
       "      <td>0</td>\n",
       "      <td>0</td>\n",
       "      <td>0</td>\n",
       "    </tr>\n",
       "    <tr>\n",
       "      <th>1</th>\n",
       "      <td>1</td>\n",
       "      <td>0</td>\n",
       "      <td>0.0</td>\n",
       "      <td>0.0</td>\n",
       "      <td>0.0</td>\n",
       "      <td>0.0</td>\n",
       "      <td>1.0</td>\n",
       "      <td>1.0</td>\n",
       "      <td>0.0</td>\n",
       "      <td>0.0</td>\n",
       "      <td>...</td>\n",
       "      <td>1</td>\n",
       "      <td>0</td>\n",
       "      <td>0</td>\n",
       "      <td>0</td>\n",
       "      <td>0</td>\n",
       "      <td>1</td>\n",
       "      <td>0</td>\n",
       "      <td>0</td>\n",
       "      <td>0</td>\n",
       "      <td>0</td>\n",
       "    </tr>\n",
       "    <tr>\n",
       "      <th>10</th>\n",
       "      <td>0</td>\n",
       "      <td>0</td>\n",
       "      <td>0.0</td>\n",
       "      <td>0.0</td>\n",
       "      <td>0.0</td>\n",
       "      <td>0.0</td>\n",
       "      <td>0.0</td>\n",
       "      <td>0.0</td>\n",
       "      <td>0.0</td>\n",
       "      <td>0.0</td>\n",
       "      <td>...</td>\n",
       "      <td>1</td>\n",
       "      <td>0</td>\n",
       "      <td>0</td>\n",
       "      <td>0</td>\n",
       "      <td>0</td>\n",
       "      <td>0</td>\n",
       "      <td>0</td>\n",
       "      <td>0</td>\n",
       "      <td>0</td>\n",
       "      <td>0</td>\n",
       "    </tr>\n",
       "    <tr>\n",
       "      <th>11</th>\n",
       "      <td>0</td>\n",
       "      <td>0</td>\n",
       "      <td>0.0</td>\n",
       "      <td>0.0</td>\n",
       "      <td>0.0</td>\n",
       "      <td>0.0</td>\n",
       "      <td>0.0</td>\n",
       "      <td>0.0</td>\n",
       "      <td>0.0</td>\n",
       "      <td>0.0</td>\n",
       "      <td>...</td>\n",
       "      <td>1</td>\n",
       "      <td>0</td>\n",
       "      <td>0</td>\n",
       "      <td>0</td>\n",
       "      <td>0</td>\n",
       "      <td>0</td>\n",
       "      <td>0</td>\n",
       "      <td>0</td>\n",
       "      <td>0</td>\n",
       "      <td>0</td>\n",
       "    </tr>\n",
       "    <tr>\n",
       "      <th>15</th>\n",
       "      <td>0</td>\n",
       "      <td>1</td>\n",
       "      <td>0.0</td>\n",
       "      <td>0.0</td>\n",
       "      <td>0.0</td>\n",
       "      <td>0.0</td>\n",
       "      <td>0.0</td>\n",
       "      <td>0.0</td>\n",
       "      <td>0.0</td>\n",
       "      <td>1.0</td>\n",
       "      <td>...</td>\n",
       "      <td>0</td>\n",
       "      <td>0</td>\n",
       "      <td>0</td>\n",
       "      <td>1</td>\n",
       "      <td>0</td>\n",
       "      <td>0</td>\n",
       "      <td>0</td>\n",
       "      <td>0</td>\n",
       "      <td>0</td>\n",
       "      <td>0</td>\n",
       "    </tr>\n",
       "  </tbody>\n",
       "</table>\n",
       "<p>5 rows × 237 columns</p>\n",
       "</div>"
      ],
      "text/plain": [
       "    AGE_ABOVE65  GENDER  DISEASE_GROUPING_1  DISEASE_GROUPING_2  \\\n",
       "0             1       0                 0.0                 0.0   \n",
       "1             1       0                 0.0                 0.0   \n",
       "10            0       0                 0.0                 0.0   \n",
       "11            0       0                 0.0                 0.0   \n",
       "15            0       1                 0.0                 0.0   \n",
       "\n",
       "    DISEASE_GROUPING_3  DISEASE_GROUPING_4  DISEASE_GROUPING_5  \\\n",
       "0                  0.0                 0.0                 1.0   \n",
       "1                  0.0                 0.0                 1.0   \n",
       "10                 0.0                 0.0                 0.0   \n",
       "11                 0.0                 0.0                 0.0   \n",
       "15                 0.0                 0.0                 0.0   \n",
       "\n",
       "    DISEASE_GROUPING_6  HTN  IMMUNOCOMPROMISED  ...  TARGET  \\\n",
       "0                  1.0  0.0                0.0  ...       1   \n",
       "1                  1.0  0.0                0.0  ...       1   \n",
       "10                 0.0  0.0                0.0  ...       1   \n",
       "11                 0.0  0.0                0.0  ...       1   \n",
       "15                 0.0  0.0                1.0  ...       0   \n",
       "\n",
       "    AGE_PERCENTIL_20th  AGE_PERCENTIL_30th  AGE_PERCENTIL_40th  \\\n",
       "0                    0                   0                   0   \n",
       "1                    0                   0                   0   \n",
       "10                   0                   0                   0   \n",
       "11                   0                   0                   0   \n",
       "15                   0                   0                   1   \n",
       "\n",
       "    AGE_PERCENTIL_50th  AGE_PERCENTIL_60th  AGE_PERCENTIL_70th  \\\n",
       "0                    0                   1                   0   \n",
       "1                    0                   1                   0   \n",
       "10                   0                   0                   0   \n",
       "11                   0                   0                   0   \n",
       "15                   0                   0                   0   \n",
       "\n",
       "    AGE_PERCENTIL_80th  AGE_PERCENTIL_90th  AGE_PERCENTIL_Above 90th  \n",
       "0                    0                   0                         0  \n",
       "1                    0                   0                         0  \n",
       "10                   0                   0                         0  \n",
       "11                   0                   0                         0  \n",
       "15                   0                   0                         0  \n",
       "\n",
       "[5 rows x 237 columns]"
      ]
     },
     "execution_count": 87,
     "metadata": {},
     "output_type": "execute_result"
    }
   ],
   "source": [
    "window_24_dataset = dataset[(dataset.WINDOW == \"0-2\") | (dataset.WINDOW == \"2-4\")]\n",
    "window_24_dataset = window_24_dataset.drop(\"WINDOW\", axis=1)\n",
    "window_24_dataset.head()"
   ]
  },
  {
   "cell_type": "markdown",
   "metadata": {},
   "source": [
    "Lets make sure that the datatypes of the curated dataset are all numeric."
   ]
  },
  {
   "cell_type": "code",
   "execution_count": 88,
   "metadata": {},
   "outputs": [
    {
     "data": {
      "text/plain": [
       "array([dtype('int64'), dtype('float64'), dtype('int32'), dtype('uint8')],\n",
       "      dtype=object)"
      ]
     },
     "execution_count": 88,
     "metadata": {},
     "output_type": "execute_result"
    }
   ],
   "source": [
    "window_24_dataset.dtypes.unique()"
   ]
  },
  {
   "cell_type": "markdown",
   "metadata": {},
   "source": [
    "We can now apply this data preparation again, this time for all time windows and for different fill methods separately in a script. The final dictionary is structured as follows:\n",
    "\n",
    "* **datasets**: *dict*\n",
    "  * **ffill_datasets**: *dict*\n",
    "    * **window_0_2**: *pd.Dataframe*\n",
    "    * **window_2_4**: *pd.DataFrame*\n",
    "    * **window_4_6**: *pd.DataFrame*\n",
    "    * **window_6_12**: *pd.DataFrame*\n",
    "    * **window_all**: *pd.DataFrame*\n",
    "  * **bfill_datasets**: *dict*\n",
    "    * . . ."
   ]
  },
  {
   "cell_type": "code",
   "execution_count": 89,
   "metadata": {},
   "outputs": [],
   "source": [
    "datasets = get_datasets()"
   ]
  },
  {
   "cell_type": "markdown",
   "metadata": {},
   "source": [
    "## Neural Network\n",
    "\n",
    "The first question as to why one would want to design a neural network by hand, can be answered easily; to understand how such algorithms work at a deep level and because it's fun.\n",
    "\n",
    "The whole neural network is designed as a package, that we can use in this notebook. We will start with a simple stochastic gradient descent backpropagation algorithm.\n",
    "\n",
    "The first step is to desgin a simple neural network thats capable of approximating some basic boolean functions."
   ]
  },
  {
   "cell_type": "code",
   "execution_count": 90,
   "metadata": {},
   "outputs": [
    {
     "name": "stdout",
     "output_type": "stream",
     "text": [
      "The autoreload extension is already loaded. To reload it, use:\n",
      "  %reload_ext autoreload\n"
     ]
    }
   ],
   "source": [
    "# In order to import from the python file without hassle, we add the current\n",
    "# directory to the python path\n",
    "import sys; sys.path.append(\".\")\n",
    "\n",
    "# Auto-reload\n",
    "%load_ext autoreload\n",
    "%autoreload 2\n",
    "\n",
    "import json\n",
    "from src.utilities import *\n",
    "from src.neural_network.basic import BasicNeuralNetwork\n",
    "\n",
    "datasets = json.load(open(\"data/datasets.json\"))"
   ]
  },
  {
   "cell_type": "code",
   "execution_count": 91,
   "metadata": {},
   "outputs": [
    {
     "name": "stdout",
     "output_type": "stream",
     "text": [
      "0: loss: 0.6909, accuracy: 0.75, learning_rate: 0.01\n",
      "200: loss: 0.5092, accuracy: 0.75, learning_rate: 0.0098\n",
      "400: loss: 0.43, accuracy: 0.75, learning_rate: 0.0096\n",
      "600: loss: 0.3581, accuracy: 1.0, learning_rate: 0.0094\n",
      "800: loss: 0.294, accuracy: 1.0, learning_rate: 0.0093\n",
      "1000: loss: 0.2393, accuracy: 1.0, learning_rate: 0.0091\n",
      "1200: loss: 0.1942, accuracy: 1.0, learning_rate: 0.0089\n",
      "1400: loss: 0.1582, accuracy: 1.0, learning_rate: 0.0088\n",
      "1600: loss: 0.1301, accuracy: 1.0, learning_rate: 0.0086\n",
      "1800: loss: 0.1081, accuracy: 1.0, learning_rate: 0.0085\n",
      "Finished learning. Accuracy: 1.0.\n",
      "=======================\n",
      "RESULTS:\n",
      "\n",
      "    TP: 1,\n",
      "    TN: 3,\n",
      "    FP: 0,\n",
      "    FN: 0\n",
      "    accuracy: 4 / 4 = 100.0%\n",
      "    sensitivity: 1.0\n",
      "    specificity: 1.0\n",
      "    \n"
     ]
    }
   ],
   "source": [
    "# Create a neural network\n",
    "basic5_AND = BasicNeuralNetwork(\n",
    "    input_size=2,\n",
    "    output_size=2,\n",
    "    iterations=2000,\n",
    "    logs=True,\n",
    "    log_frequency=200,\n",
    "    alpha=0.01,\n",
    "    alpha_decay=0.0001,\n",
    "    layer_size=5\n",
    ")\n",
    "\n",
    "# Create dataset\n",
    "X_and = [\n",
    "    [0, 0],\n",
    "    [0, 1],\n",
    "    [1, 0],\n",
    "    [1, 1]\n",
    "]\n",
    "\n",
    "# AND target values\n",
    "y_and = one_hot([0, 0, 0, 1], 2)\n",
    "\n",
    "# Train on the dataset\n",
    "basic5_AND.train(X_and, y_and)\n",
    "\n",
    "# Evaluate model\n",
    "basic5_AND_confusion_matrix = evaluate_custom(X_and, y_and, basic5_AND)"
   ]
  },
  {
   "cell_type": "markdown",
   "metadata": {},
   "source": [
    "Neural network seems to work for an AND method. Let's try XOR."
   ]
  },
  {
   "cell_type": "code",
   "execution_count": 92,
   "metadata": {},
   "outputs": [
    {
     "name": "stdout",
     "output_type": "stream",
     "text": [
      "0: loss: 0.6612, accuracy: 0.75, learning_rate: 0.01\n",
      "200: loss: 0.5854, accuracy: 0.75, learning_rate: 0.0083\n",
      "400: loss: 0.5431, accuracy: 1.0, learning_rate: 0.0071\n",
      "600: loss: 0.5093, accuracy: 1.0, learning_rate: 0.0063\n",
      "800: loss: 0.4797, accuracy: 1.0, learning_rate: 0.0056\n",
      "1000: loss: 0.4508, accuracy: 1.0, learning_rate: 0.005\n",
      "1200: loss: 0.4222, accuracy: 1.0, learning_rate: 0.0045\n",
      "1400: loss: 0.3972, accuracy: 1.0, learning_rate: 0.0042\n",
      "1600: loss: 0.3735, accuracy: 1.0, learning_rate: 0.0038\n",
      "1800: loss: 0.3511, accuracy: 1.0, learning_rate: 0.0036\n",
      "Finished learning. Accuracy: 1.0.\n",
      "=======================\n",
      "RESULTS:\n",
      "\n",
      "    TP: 2,\n",
      "    TN: 2,\n",
      "    FP: 0,\n",
      "    FN: 0\n",
      "    accuracy: 4 / 4 = 100.0%\n",
      "    sensitivity: 1.0\n",
      "    specificity: 1.0\n",
      "    \n"
     ]
    }
   ],
   "source": [
    "# Create a neural network\n",
    "basic5_XOR = BasicNeuralNetwork(\n",
    "    input_size=2,\n",
    "    output_size=2,\n",
    "    iterations=2000,\n",
    "    logs=True,\n",
    "    log_frequency=200,\n",
    "    alpha=0.01,\n",
    "    alpha_decay=0.001,\n",
    "    layer_size=5\n",
    ")\n",
    "\n",
    "# Create dataset\n",
    "X_xor = [\n",
    "    [0, 0],\n",
    "    [0, 1],\n",
    "    [1, 0],\n",
    "    [1, 1]\n",
    "]\n",
    "\n",
    "# XOR target values\n",
    "y_xor = one_hot([0, 1, 1, 0], 2)\n",
    "\n",
    "# Train on the dataset\n",
    "basic5_XOR.train(X_xor, y_xor)\n",
    "\n",
    "# Evaluate model\n",
    "basic5_XOR_confusion_matrix = evaluate_custom(X_xor, y_xor, basic5_XOR)"
   ]
  },
  {
   "cell_type": "markdown",
   "metadata": {},
   "source": [
    "Let's use our neural network on the actual dataset."
   ]
  },
  {
   "cell_type": "code",
   "execution_count": 93,
   "metadata": {},
   "outputs": [],
   "source": [
    "dataset = pd.DataFrame(json.loads(datasets[\"window_all\"]))\n",
    "\n",
    "X = dataset.drop(\"TARGET\", axis=1).to_numpy()\n",
    "\n",
    "y = dataset[[\"TARGET\"]].to_numpy()\n",
    "y = one_hot(y.T[0], 2)"
   ]
  },
  {
   "cell_type": "code",
   "execution_count": 94,
   "metadata": {},
   "outputs": [
    {
     "name": "stdout",
     "output_type": "stream",
     "text": [
      "0: loss: 0.6925, accuracy: 0.6766, learning_rate: 0.01\n",
      "200: loss: 0.6392, accuracy: 0.6766, learning_rate: 0.0098\n",
      "400: loss: 0.6308, accuracy: 0.6766, learning_rate: 0.0096\n",
      "600: loss: 0.6288, accuracy: 0.6759, learning_rate: 0.0094\n",
      "800: loss: 0.6277, accuracy: 0.6759, learning_rate: 0.0093\n",
      "1000: loss: 0.6264, accuracy: 0.6759, learning_rate: 0.0091\n",
      "1200: loss: 0.6251, accuracy: 0.6759, learning_rate: 0.0089\n",
      "1400: loss: 0.6238, accuracy: 0.6773, learning_rate: 0.0088\n",
      "1600: loss: 0.6208, accuracy: 0.678, learning_rate: 0.0086\n",
      "1800: loss: 0.6161, accuracy: 0.6801, learning_rate: 0.0085\n",
      "Finished learning. Accuracy: 0.6858156028368795.\n",
      "=======================\n",
      "RESULTS:\n",
      "\n",
      "    TP: 29,\n",
      "    TN: 937,\n",
      "    FP: 13,\n",
      "    FN: 431\n",
      "    accuracy: 966 / 1410 = 68.51%\n",
      "    sensitivity: 0.06\n",
      "    specificity: 0.99\n",
      "    \n"
     ]
    },
    {
     "data": {
      "image/png": "[encoded data removed]",
      "text/plain": [
       "<Figure size 432x288 with 2 Axes>"
      ]
     },
     "metadata": {
      "needs_background": "light"
     },
     "output_type": "display_data"
    }
   ],
   "source": [
    "# Create a neural network\n",
    "basic5_covid = BasicNeuralNetwork(\n",
    "    input_size=X.shape[1],\n",
    "    output_size=2,\n",
    "    iterations=2000,\n",
    "    logs=True,\n",
    "    log_frequency=200,\n",
    "    alpha=0.01,\n",
    "    alpha_decay=0.0001,\n",
    "    layer_size=5\n",
    ")\n",
    "\n",
    "basic5_covid.train(X, y)\n",
    "basic5_covid_confusion_matrix = evaluate_custom(X, y, basic5_covid)\n",
    "\n",
    "visualize_custom(basic5_covid_confusion_matrix)"
   ]
  },
  {
   "cell_type": "markdown",
   "metadata": {},
   "source": [
    "At just 5 neurons in the hidden layer, the network pretty much reduces the problem to the majority class. Let's try increasing the number of neurons and compare results. Keep in mind, that the neural network uses **Stochastic Gradient Descent** optimization (same for previous examples)."
   ]
  },
  {
   "cell_type": "code",
   "execution_count": 95,
   "metadata": {},
   "outputs": [
    {
     "name": "stdout",
     "output_type": "stream",
     "text": [
      "0: loss: 9.3382, accuracy: 0.3291, learning_rate: 0.01\n",
      "250: loss: 1.7538, accuracy: 0.7248, learning_rate: 0.0098\n",
      "500: loss: 1.0124, accuracy: 0.7525, learning_rate: 0.0095\n",
      "750: loss: 0.733, accuracy: 0.7681, learning_rate: 0.0093\n",
      "1000: loss: 0.5739, accuracy: 0.7901, learning_rate: 0.0091\n",
      "1250: loss: 0.479, accuracy: 0.7965, learning_rate: 0.0089\n",
      "1500: loss: 0.4262, accuracy: 0.8035, learning_rate: 0.0087\n",
      "1750: loss: 0.3954, accuracy: 0.8113, learning_rate: 0.0085\n",
      "2000: loss: 0.3706, accuracy: 0.8241, learning_rate: 0.0083\n",
      "2250: loss: 0.3553, accuracy: 0.8262, learning_rate: 0.0082\n",
      "Finished learning. Accuracy: 0.8319148936170213.\n",
      "=======================\n",
      "RESULTS:\n",
      "\n",
      "    TP: 324,\n",
      "    TN: 848,\n",
      "    FP: 102,\n",
      "    FN: 136\n",
      "    accuracy: 1172 / 1410 = 83.12%\n",
      "    sensitivity: 0.7\n",
      "    specificity: 0.89\n",
      "    \n"
     ]
    },
    {
     "data": {
      "image/png": "[encoded data removed]",
      "text/plain": [
       "<Figure size 432x288 with 2 Axes>"
      ]
     },
     "metadata": {
      "needs_background": "light"
     },
     "output_type": "display_data"
    }
   ],
   "source": [
    "# Create a neural network\n",
    "basic128_covid = BasicNeuralNetwork(\n",
    "    input_size=X.shape[1],\n",
    "    output_size=2,\n",
    "    iterations=2500,\n",
    "    logs=True,\n",
    "    log_frequency=250,\n",
    "    alpha=0.01,\n",
    "    alpha_decay=0.0001,\n",
    "    layer_size=128\n",
    ")\n",
    "\n",
    "basic128_covid.train(X, y)\n",
    "basic128_covid_confusion_matrix = evaluate_custom(X, y, basic128_covid)\n",
    "\n",
    "visualize_custom(basic128_covid_confusion_matrix)\n"
   ]
  },
  {
   "cell_type": "markdown",
   "metadata": {},
   "source": [
    "This is a decent result. Let's try some other optimizers, namely **AdaGrad** and **Adam**."
   ]
  },
  {
   "cell_type": "markdown",
   "metadata": {},
   "source": [
    "#### AdaGrad"
   ]
  },
  {
   "cell_type": "code",
   "execution_count": 96,
   "metadata": {},
   "outputs": [
    {
     "name": "stdout",
     "output_type": "stream",
     "text": [
      "0: loss: 10.3927, accuracy: 0.3262, learning_rate: 0.01\n",
      "250: loss: 1.931, accuracy: 0.7085, learning_rate: 0.0098\n",
      "500: loss: 0.9168, accuracy: 0.7482, learning_rate: 0.0095\n",
      "750: loss: 0.6217, accuracy: 0.7681, learning_rate: 0.0093\n",
      "1000: loss: 0.486, accuracy: 0.783, learning_rate: 0.0091\n",
      "1250: loss: 0.4101, accuracy: 0.8057, learning_rate: 0.0089\n",
      "1500: loss: 0.3735, accuracy: 0.8163, learning_rate: 0.0087\n",
      "1750: loss: 0.3506, accuracy: 0.8284, learning_rate: 0.0085\n",
      "2000: loss: 0.3365, accuracy: 0.8404, learning_rate: 0.0083\n",
      "2250: loss: 0.3301, accuracy: 0.844, learning_rate: 0.0082\n",
      "Finished learning. Accuracy: 0.8468085106382979.\n",
      "=======================\n",
      "RESULTS:\n",
      "\n",
      "    TP: 333,\n",
      "    TN: 859,\n",
      "    FP: 91,\n",
      "    FN: 127\n",
      "    accuracy: 1192 / 1410 = 84.54%\n",
      "    sensitivity: 0.72\n",
      "    specificity: 0.9\n",
      "    \n"
     ]
    },
    {
     "data": {
      "image/png": "[encoded data removed]",
      "text/plain": [
       "<Figure size 432x288 with 2 Axes>"
      ]
     },
     "metadata": {
      "needs_background": "light"
     },
     "output_type": "display_data"
    }
   ],
   "source": [
    "# Create a neural network\n",
    "adagrad128_covid = BasicNeuralNetwork(\n",
    "    input_size=X.shape[1],\n",
    "    output_size=2,\n",
    "    iterations=2500,\n",
    "    logs=True,\n",
    "    log_frequency=250,\n",
    "    alpha=0.01,\n",
    "    alpha_decay=0.0001,\n",
    "    layer_size=128,\n",
    "    optimizer=\"adagrad\"\n",
    ")\n",
    "\n",
    "adagrad128_covid.train(X, y)\n",
    "adagrad128_covid_confusion_matrix = evaluate_custom(X, y, adagrad128_covid)\n",
    "\n",
    "visualize_custom(adagrad128_covid_confusion_matrix)"
   ]
  },
  {
   "cell_type": "markdown",
   "metadata": {},
   "source": [
    "#### Adam"
   ]
  },
  {
   "cell_type": "code",
   "execution_count": 97,
   "metadata": {},
   "outputs": [
    {
     "name": "stdout",
     "output_type": "stream",
     "text": [
      "0: loss: 4.9612, accuracy: 0.6752, learning_rate: 0.01\n",
      "250: loss: 1.7293, accuracy: 0.6809, learning_rate: 0.0098\n",
      "500: loss: 1.1144, accuracy: 0.7277, learning_rate: 0.0095\n",
      "750: loss: 0.8089, accuracy: 0.744, learning_rate: 0.0093\n",
      "1000: loss: 0.6443, accuracy: 0.7709, learning_rate: 0.0091\n",
      "1250: loss: 0.5432, accuracy: 0.7872, learning_rate: 0.0089\n",
      "1500: loss: 0.476, accuracy: 0.7965, learning_rate: 0.0087\n",
      "1750: loss: 0.429, accuracy: 0.8191, learning_rate: 0.0085\n",
      "2000: loss: 0.3986, accuracy: 0.8277, learning_rate: 0.0083\n",
      "2250: loss: 0.3751, accuracy: 0.8355, learning_rate: 0.0082\n",
      "Finished learning. Accuracy: 0.8382978723404255.\n",
      "=======================\n",
      "RESULTS:\n",
      "\n",
      "    TP: 377,\n",
      "    TN: 815,\n",
      "    FP: 135,\n",
      "    FN: 83\n",
      "    accuracy: 1192 / 1410 = 84.54%\n",
      "    sensitivity: 0.82\n",
      "    specificity: 0.86\n",
      "    \n"
     ]
    },
    {
     "data": {
      "image/png": "[encoded data removed]",
      "text/plain": [
       "<Figure size 432x288 with 2 Axes>"
      ]
     },
     "metadata": {
      "needs_background": "light"
     },
     "output_type": "display_data"
    }
   ],
   "source": [
    "# Create a neural network\n",
    "adam128_covid = BasicNeuralNetwork(\n",
    "    input_size=X.shape[1],\n",
    "    output_size=2,\n",
    "    iterations=2500,\n",
    "    logs=True,\n",
    "    log_frequency=250,\n",
    "    alpha=0.01,\n",
    "    alpha_decay=0.0001,\n",
    "    layer_size=128,\n",
    "    optimizer=\"adam\"\n",
    ")\n",
    "\n",
    "adam128_covid.train(X, y)\n",
    "adam128_covid_confusion_matrix = evaluate_custom(X, y, adam128_covid)\n",
    "\n",
    "visualize_custom(adam128_covid_confusion_matrix)"
   ]
  },
  {
   "cell_type": "markdown",
   "metadata": {},
   "source": [
    "### **Results**\n",
    "\n",
    "Let's split dataset into test and train sets and observe accuracies between optimizers. We will do this for each time window and then compare with Random Forest Classifier."
   ]
  },
  {
   "cell_type": "markdown",
   "metadata": {},
   "source": [
    "#### **Time Window 0-2**"
   ]
  },
  {
   "cell_type": "code",
   "execution_count": 98,
   "metadata": {},
   "outputs": [],
   "source": [
    "dataset02 = pd.DataFrame(json.loads(datasets[\"window_0_2\"]))\n",
    "\n",
    "X = dataset02.drop(\"TARGET\", axis=1).to_numpy()\n",
    "\n",
    "y = dataset02[[\"TARGET\"]].to_numpy()\n",
    "y = one_hot(y.T[0], 2)\n",
    "\n",
    "train_set, test_set = split_at_x_percent(X, 70)\n",
    "train_truths, test_truths = split_at_x_percent(y, 70)"
   ]
  },
  {
   "cell_type": "markdown",
   "metadata": {},
   "source": [
    "##### SGD"
   ]
  },
  {
   "cell_type": "code",
   "execution_count": 99,
   "metadata": {},
   "outputs": [
    {
     "name": "stdout",
     "output_type": "stream",
     "text": [
      "0: loss: 7.572, accuracy: 0.5061, learning_rate: 0.01\n",
      "250: loss: 1.3521, accuracy: 0.664, learning_rate: 0.0098\n",
      "500: loss: 0.7084, accuracy: 0.7166, learning_rate: 0.0095\n",
      "750: loss: 0.484, accuracy: 0.7652, learning_rate: 0.0093\n",
      "1000: loss: 0.3923, accuracy: 0.8138, learning_rate: 0.0091\n",
      "1250: loss: 0.3368, accuracy: 0.8583, learning_rate: 0.0089\n",
      "1500: loss: 0.3112, accuracy: 0.8745, learning_rate: 0.0087\n",
      "1750: loss: 0.2937, accuracy: 0.9109, learning_rate: 0.0085\n",
      "2000: loss: 0.2794, accuracy: 0.9069, learning_rate: 0.0083\n",
      "2250: loss: 0.2672, accuracy: 0.915, learning_rate: 0.0082\n",
      "Finished learning. Accuracy: 0.9190283400809717.\n",
      "=======================\n",
      "RESULTS:\n",
      "\n",
      "    TP: 27,\n",
      "    TN: 41,\n",
      "    FP: 23,\n",
      "    FN: 14\n",
      "    accuracy: 68 / 105 = 64.76%\n",
      "    sensitivity: 0.66\n",
      "    specificity: 0.64\n",
      "    \n"
     ]
    },
    {
     "data": {
      "image/png": "[encoded data removed]",
      "text/plain": [
       "<Figure size 432x288 with 2 Axes>"
      ]
     },
     "metadata": {
      "needs_background": "light"
     },
     "output_type": "display_data"
    }
   ],
   "source": [
    "# Create a neural network\n",
    "sgd128_covid = BasicNeuralNetwork(\n",
    "    input_size=train_set.shape[1],\n",
    "    output_size=2,\n",
    "    iterations=2500,\n",
    "    logs=True,\n",
    "    log_frequency=250,\n",
    "    alpha=0.01,\n",
    "    alpha_decay=0.0001,\n",
    "    layer_size=128\n",
    ")\n",
    "\n",
    "sgd128_covid.train(train_set, train_truths)\n",
    "sgd128_covid_confusion_matrix = evaluate_custom(test_set, test_truths, sgd128_covid)\n",
    "\n",
    "visualize_custom(sgd128_covid_confusion_matrix)\n"
   ]
  },
  {
   "cell_type": "markdown",
   "metadata": {},
   "source": [
    "##### AdaGrad"
   ]
  },
  {
   "cell_type": "code",
   "execution_count": 100,
   "metadata": {},
   "outputs": [
    {
     "name": "stdout",
     "output_type": "stream",
     "text": [
      "0: loss: 3.8728, accuracy: 0.5547, learning_rate: 0.01\n",
      "250: loss: 2.2235, accuracy: 0.6356, learning_rate: 0.0098\n",
      "500: loss: 0.7597, accuracy: 0.7652, learning_rate: 0.0095\n",
      "750: loss: 0.5597, accuracy: 0.7773, learning_rate: 0.0093\n",
      "1000: loss: 0.4166, accuracy: 0.8219, learning_rate: 0.0091\n",
      "1250: loss: 0.3342, accuracy: 0.8704, learning_rate: 0.0089\n",
      "1500: loss: 0.2827, accuracy: 0.8907, learning_rate: 0.0087\n",
      "1750: loss: 0.2409, accuracy: 0.915, learning_rate: 0.0085\n",
      "2000: loss: 0.2225, accuracy: 0.9312, learning_rate: 0.0083\n",
      "2250: loss: 0.2069, accuracy: 0.9433, learning_rate: 0.0082\n",
      "Finished learning. Accuracy: 0.9433198380566802.\n",
      "=======================\n",
      "RESULTS:\n",
      "\n",
      "    TP: 27,\n",
      "    TN: 43,\n",
      "    FP: 21,\n",
      "    FN: 14\n",
      "    accuracy: 70 / 105 = 66.67%\n",
      "    sensitivity: 0.66\n",
      "    specificity: 0.67\n",
      "    \n"
     ]
    },
    {
     "data": {
      "image/png": "[encoded data removed]",
      "text/plain": [
       "<Figure size 432x288 with 2 Axes>"
      ]
     },
     "metadata": {
      "needs_background": "light"
     },
     "output_type": "display_data"
    }
   ],
   "source": [
    "# Create a neural network\n",
    "adagrad128_covid = BasicNeuralNetwork(\n",
    "    input_size=train_set.shape[1],\n",
    "    output_size=2,\n",
    "    iterations=2500,\n",
    "    logs=True,\n",
    "    log_frequency=250,\n",
    "    alpha=0.01,\n",
    "    alpha_decay=0.0001,\n",
    "    layer_size=128,\n",
    "    optimizer=\"adagrad\"\n",
    ")\n",
    "\n",
    "adagrad128_covid.train(train_set, train_truths)\n",
    "adagrad128_covid_confusion_matrix = evaluate_custom(test_set, test_truths, adagrad128_covid)\n",
    "\n",
    "visualize_custom(adagrad128_covid_confusion_matrix)"
   ]
  },
  {
   "cell_type": "markdown",
   "metadata": {},
   "source": [
    "##### Adam"
   ]
  },
  {
   "cell_type": "code",
   "execution_count": 101,
   "metadata": {},
   "outputs": [
    {
     "name": "stdout",
     "output_type": "stream",
     "text": [
      "0: loss: 7.8061, accuracy: 0.4939, learning_rate: 0.01\n",
      "250: loss: 1.62, accuracy: 0.6154, learning_rate: 0.0098\n",
      "500: loss: 0.7418, accuracy: 0.7126, learning_rate: 0.0095\n",
      "750: loss: 0.5038, accuracy: 0.7976, learning_rate: 0.0093\n",
      "1000: loss: 0.3925, accuracy: 0.83, learning_rate: 0.0091\n",
      "1250: loss: 0.3303, accuracy: 0.8704, learning_rate: 0.0089\n",
      "1500: loss: 0.2854, accuracy: 0.8988, learning_rate: 0.0087\n",
      "1750: loss: 0.2614, accuracy: 0.915, learning_rate: 0.0085\n",
      "2000: loss: 0.2456, accuracy: 0.9231, learning_rate: 0.0083\n",
      "2250: loss: 0.234, accuracy: 0.9312, learning_rate: 0.0082\n",
      "Finished learning. Accuracy: 0.9392712550607287.\n",
      "=======================\n",
      "RESULTS:\n",
      "\n",
      "    TP: 17,\n",
      "    TN: 43,\n",
      "    FP: 21,\n",
      "    FN: 24\n",
      "    accuracy: 60 / 105 = 57.14%\n",
      "    sensitivity: 0.41\n",
      "    specificity: 0.67\n",
      "    \n"
     ]
    },
    {
     "data": {
      "image/png": "[encoded data removed]",
      "text/plain": [
       "<Figure size 432x288 with 2 Axes>"
      ]
     },
     "metadata": {
      "needs_background": "light"
     },
     "output_type": "display_data"
    }
   ],
   "source": [
    "# Create a neural network\n",
    "adam128_covid = BasicNeuralNetwork(\n",
    "    input_size=train_set.shape[1],\n",
    "    output_size=2,\n",
    "    iterations=2500,\n",
    "    logs=True,\n",
    "    log_frequency=250,\n",
    "    alpha=0.01,\n",
    "    alpha_decay=0.0001,\n",
    "    layer_size=128,\n",
    "    optimizer=\"adam\"\n",
    ")\n",
    "\n",
    "adam128_covid.train(train_set, train_truths)\n",
    "adam128_covid_confusion_matrix = evaluate_custom(test_set, test_truths, adam128_covid)\n",
    "\n",
    "visualize_custom(adam128_covid_confusion_matrix)"
   ]
  },
  {
   "cell_type": "markdown",
   "metadata": {},
   "source": [
    "##### Random Forest"
   ]
  },
  {
   "cell_type": "code",
   "execution_count": 102,
   "metadata": {},
   "outputs": [
    {
     "name": "stdout",
     "output_type": "stream",
     "text": [
      "Accuracy: 0.6792452830188679\n",
      "Sensitivity: 0.57\n",
      "Specificity: 0.8\n"
     ]
    },
    {
     "data": {
      "image/png": "[encoded data removed]",
      "text/plain": [
       "<Figure size 432x288 with 2 Axes>"
      ]
     },
     "metadata": {
      "needs_background": "light"
     },
     "output_type": "display_data"
    }
   ],
   "source": [
    "(test, pred) = random_forest(df=pd.DataFrame(json.loads(datasets[\"window_0_2\"])), target=\"TARGET\")\n",
    "\n",
    "evaluation = evaluate(test, pred)\n",
    "visualize_confusion_matrix(test, pred)\n",
    "print(evaluation)"
   ]
  },
  {
   "cell_type": "markdown",
   "metadata": {},
   "source": [
    "#### **Time Window 2-4**"
   ]
  },
  {
   "cell_type": "code",
   "execution_count": 103,
   "metadata": {},
   "outputs": [],
   "source": [
    "dataset02 = pd.DataFrame(json.loads(datasets[\"window_2_4\"]))\n",
    "\n",
    "X = dataset02.drop(\"TARGET\", axis=1).to_numpy()\n",
    "\n",
    "y = dataset02[[\"TARGET\"]].to_numpy()\n",
    "y = one_hot(y.T[0], 2)\n",
    "\n",
    "train_set, test_set = split_at_x_percent(X, 70)\n",
    "train_truths, test_truths = split_at_x_percent(y, 70)"
   ]
  },
  {
   "cell_type": "markdown",
   "metadata": {},
   "source": [
    "##### SGD"
   ]
  },
  {
   "cell_type": "code",
   "execution_count": 127,
   "metadata": {},
   "outputs": [
    {
     "name": "stdout",
     "output_type": "stream",
     "text": [
      "0: loss: 4.7045, accuracy: 0.6616, learning_rate: 0.01\n",
      "250: loss: 1.0701, accuracy: 0.7761, learning_rate: 0.0098\n",
      "500: loss: 0.5926, accuracy: 0.8207, learning_rate: 0.0095\n",
      "750: loss: 0.4333, accuracy: 0.8409, learning_rate: 0.0093\n",
      "1000: loss: 0.3665, accuracy: 0.8551, learning_rate: 0.0091\n",
      "1250: loss: 0.3091, accuracy: 0.8673, learning_rate: 0.0089\n",
      "Finished learning. Accuracy: 0.889564336372847.\n",
      "=======================\n",
      "RESULTS:\n",
      "\n",
      "    TP: 61,\n",
      "    TN: 241,\n",
      "    FP: 61,\n",
      "    FN: 59\n",
      "    accuracy: 302 / 422 = 71.56%\n",
      "    sensitivity: 0.51\n",
      "    specificity: 0.8\n",
      "    \n"
     ]
    },
    {
     "data": {
      "image/png": "[encoded data removed]",
      "text/plain": [
       "<Figure size 432x288 with 2 Axes>"
      ]
     },
     "metadata": {
      "needs_background": "light"
     },
     "output_type": "display_data"
    }
   ],
   "source": [
    "# Create a neural network\n",
    "sgd128_covid = BasicNeuralNetwork(\n",
    "    input_size=train_set.shape[1],\n",
    "    output_size=2,\n",
    "    iterations=1500,\n",
    "    logs=True,\n",
    "    log_frequency=250,\n",
    "    alpha=0.01,\n",
    "    alpha_decay=0.0001,\n",
    "    layer_size=128,\n",
    "    momentum=0.3\n",
    ")\n",
    "\n",
    "sgd128_covid.train(train_set, train_truths)\n",
    "sgd128_covid_confusion_matrix = evaluate_custom(test_set, test_truths, sgd128_covid)\n",
    "\n",
    "visualize_custom(sgd128_covid_confusion_matrix)\n"
   ]
  },
  {
   "cell_type": "markdown",
   "metadata": {},
   "source": [
    "##### AdaGrad"
   ]
  },
  {
   "cell_type": "code",
   "execution_count": 128,
   "metadata": {},
   "outputs": [
    {
     "name": "stdout",
     "output_type": "stream",
     "text": [
      "0: loss: 4.3048, accuracy: 0.4792, learning_rate: 0.01\n",
      "250: loss: 1.6274, accuracy: 0.7508, learning_rate: 0.0098\n",
      "500: loss: 0.8932, accuracy: 0.7801, learning_rate: 0.0095\n",
      "750: loss: 0.609, accuracy: 0.8055, learning_rate: 0.0093\n",
      "1000: loss: 0.4589, accuracy: 0.8288, learning_rate: 0.0091\n",
      "1250: loss: 0.381, accuracy: 0.848, learning_rate: 0.0089\n",
      "Finished learning. Accuracy: 0.8662613981762918.\n",
      "=======================\n",
      "RESULTS:\n",
      "\n",
      "    TP: 49,\n",
      "    TN: 260,\n",
      "    FP: 42,\n",
      "    FN: 71\n",
      "    accuracy: 309 / 422 = 73.22%\n",
      "    sensitivity: 0.41\n",
      "    specificity: 0.86\n",
      "    \n"
     ]
    },
    {
     "data": {
      "image/png": "[encoded data removed]",
      "text/plain": [
       "<Figure size 432x288 with 2 Axes>"
      ]
     },
     "metadata": {
      "needs_background": "light"
     },
     "output_type": "display_data"
    }
   ],
   "source": [
    "# Create a neural network\n",
    "adagrad128_covid = BasicNeuralNetwork(\n",
    "    input_size=train_set.shape[1],\n",
    "    output_size=2,\n",
    "    iterations=1500,\n",
    "    logs=True,\n",
    "    log_frequency=250,\n",
    "    alpha=0.01,\n",
    "    alpha_decay=0.0001,\n",
    "    layer_size=128,\n",
    "    optimizer=\"adagrad\"\n",
    ")\n",
    "\n",
    "adagrad128_covid.train(train_set, train_truths)\n",
    "adagrad128_covid_confusion_matrix = evaluate_custom(test_set, test_truths, adagrad128_covid)\n",
    "\n",
    "visualize_custom(adagrad128_covid_confusion_matrix)"
   ]
  },
  {
   "cell_type": "markdown",
   "metadata": {},
   "source": [
    "##### Adam"
   ]
  },
  {
   "cell_type": "code",
   "execution_count": 129,
   "metadata": {},
   "outputs": [
    {
     "name": "stdout",
     "output_type": "stream",
     "text": [
      "0: loss: 6.0278, accuracy: 0.4255, learning_rate: 0.01\n",
      "250: loss: 1.603, accuracy: 0.7467, learning_rate: 0.0098\n",
      "500: loss: 0.8676, accuracy: 0.7741, learning_rate: 0.0095\n",
      "750: loss: 0.6115, accuracy: 0.8095, learning_rate: 0.0093\n",
      "1000: loss: 0.4901, accuracy: 0.8227, learning_rate: 0.0091\n",
      "1250: loss: 0.4177, accuracy: 0.8389, learning_rate: 0.0089\n",
      "Finished learning. Accuracy: 0.8571428571428571.\n",
      "=======================\n",
      "RESULTS:\n",
      "\n",
      "    TP: 55,\n",
      "    TN: 265,\n",
      "    FP: 37,\n",
      "    FN: 65\n",
      "    accuracy: 320 / 422 = 75.83%\n",
      "    sensitivity: 0.46\n",
      "    specificity: 0.88\n",
      "    \n"
     ]
    },
    {
     "data": {
      "image/png": "[encoded data removed]",
      "text/plain": [
       "<Figure size 432x288 with 2 Axes>"
      ]
     },
     "metadata": {
      "needs_background": "light"
     },
     "output_type": "display_data"
    }
   ],
   "source": [
    "# Create a neural network\n",
    "adam128_covid = BasicNeuralNetwork(\n",
    "    input_size=train_set.shape[1],\n",
    "    output_size=2,\n",
    "    iterations=1500,\n",
    "    logs=True,\n",
    "    log_frequency=250,\n",
    "    alpha=0.01,\n",
    "    alpha_decay=0.0001,\n",
    "    layer_size=128,\n",
    "    optimizer=\"adam\"\n",
    ")\n",
    "\n",
    "adam128_covid.train(train_set, train_truths)\n",
    "adam128_covid_confusion_matrix = evaluate_custom(test_set, test_truths, adam128_covid)\n",
    "\n",
    "visualize_custom(adam128_covid_confusion_matrix)"
   ]
  },
  {
   "cell_type": "markdown",
   "metadata": {},
   "source": [
    "##### Random Forest"
   ]
  },
  {
   "cell_type": "code",
   "execution_count": 137,
   "metadata": {},
   "outputs": [
    {
     "name": "stdout",
     "output_type": "stream",
     "text": [
      "Accuracy: 0.7794117647058824\n",
      "Sensitivity: 0.7\n",
      "Specificity: 0.85\n"
     ]
    },
    {
     "data": {
      "image/png": "[encoded data removed]",
      "text/plain": [
       "<Figure size 432x288 with 2 Axes>"
      ]
     },
     "metadata": {
      "needs_background": "light"
     },
     "output_type": "display_data"
    }
   ],
   "source": [
    "(test, pred) = random_forest(df=pd.DataFrame(json.loads(datasets[\"window_2_4\"])), target=\"TARGET\")\n",
    "\n",
    "evaluation = evaluate(test, pred)\n",
    "visualize_confusion_matrix(test, pred)\n",
    "print(evaluation)"
   ]
  },
  {
   "cell_type": "markdown",
   "metadata": {},
   "source": [
    "#### **Time Window 4-6**"
   ]
  },
  {
   "cell_type": "code",
   "execution_count": 108,
   "metadata": {},
   "outputs": [],
   "source": [
    "dataset02 = pd.DataFrame(json.loads(datasets[\"window_4_6\"]))\n",
    "\n",
    "X = dataset02.drop(\"TARGET\", axis=1).to_numpy()\n",
    "\n",
    "y = dataset02[[\"TARGET\"]].to_numpy()\n",
    "y = one_hot(y.T[0], 2)\n",
    "\n",
    "train_set, test_set = split_at_x_percent(X, 70)\n",
    "train_truths, test_truths = split_at_x_percent(y, 70)"
   ]
  },
  {
   "cell_type": "markdown",
   "metadata": {},
   "source": [
    "##### SGD"
   ]
  },
  {
   "cell_type": "code",
   "execution_count": 152,
   "metadata": {},
   "outputs": [
    {
     "name": "stdout",
     "output_type": "stream",
     "text": [
      "0: loss: 5.2557, accuracy: 0.6555, learning_rate: 0.01\n",
      "250: loss: 0.3669, accuracy: 0.8379, learning_rate: 0.0098\n",
      "500: loss: 0.2561, accuracy: 0.8946, learning_rate: 0.0095\n",
      "750: loss: 0.2241, accuracy: 0.9119, learning_rate: 0.0093\n",
      "1000: loss: 0.1968, accuracy: 0.925, learning_rate: 0.0091\n",
      "1250: loss: 0.173, accuracy: 0.9422, learning_rate: 0.0089\n",
      "Finished learning. Accuracy: 0.9523809523809523.\n",
      "=======================\n",
      "RESULTS:\n",
      "\n",
      "    TP: 58,\n",
      "    TN: 242,\n",
      "    FP: 60,\n",
      "    FN: 62\n",
      "    accuracy: 300 / 422 = 71.09%\n",
      "    sensitivity: 0.48\n",
      "    specificity: 0.8\n",
      "    \n"
     ]
    },
    {
     "data": {
      "image/png": "[encoded data removed]",
      "text/plain": [
       "<Figure size 432x288 with 2 Axes>"
      ]
     },
     "metadata": {
      "needs_background": "light"
     },
     "output_type": "display_data"
    }
   ],
   "source": [
    "# Create a neural network\n",
    "sgd128_covid = BasicNeuralNetwork(\n",
    "    input_size=train_set.shape[1],\n",
    "    output_size=2,\n",
    "    iterations=1500,\n",
    "    logs=True,\n",
    "    log_frequency=250,\n",
    "    alpha=0.01,\n",
    "    alpha_decay=0.0001,\n",
    "    layer_size=128,\n",
    "    momentum=0.9\n",
    ")\n",
    "\n",
    "sgd128_covid.train(train_set, train_truths)\n",
    "sgd128_covid_confusion_matrix = evaluate_custom(test_set, test_truths, sgd128_covid)\n",
    "\n",
    "visualize_custom(sgd128_covid_confusion_matrix)\n"
   ]
  },
  {
   "cell_type": "markdown",
   "metadata": {},
   "source": [
    "##### AdaGrad"
   ]
  },
  {
   "cell_type": "code",
   "execution_count": 156,
   "metadata": {},
   "outputs": [
    {
     "name": "stdout",
     "output_type": "stream",
     "text": [
      "0: loss: 5.3136, accuracy: 0.6555, learning_rate: 0.01\n",
      "250: loss: 1.4793, accuracy: 0.7082, learning_rate: 0.0098\n",
      "500: loss: 0.8551, accuracy: 0.7548, learning_rate: 0.0095\n",
      "750: loss: 0.6277, accuracy: 0.769, learning_rate: 0.0093\n",
      "1000: loss: 0.4919, accuracy: 0.7994, learning_rate: 0.0091\n",
      "1250: loss: 0.4258, accuracy: 0.8176, learning_rate: 0.0089\n",
      "Finished learning. Accuracy: 0.828774062816616.\n",
      "=======================\n",
      "RESULTS:\n",
      "\n",
      "    TP: 77,\n",
      "    TN: 209,\n",
      "    FP: 93,\n",
      "    FN: 43\n",
      "    accuracy: 286 / 422 = 67.77%\n",
      "    sensitivity: 0.64\n",
      "    specificity: 0.69\n",
      "    \n"
     ]
    },
    {
     "data": {
      "image/png": "[encoded data removed]",
      "text/plain": [
       "<Figure size 432x288 with 2 Axes>"
      ]
     },
     "metadata": {
      "needs_background": "light"
     },
     "output_type": "display_data"
    }
   ],
   "source": [
    "# Create a neural network\n",
    "adagrad128_covid = BasicNeuralNetwork(\n",
    "    input_size=train_set.shape[1],\n",
    "    output_size=2,\n",
    "    iterations=1500,\n",
    "    logs=True,\n",
    "    log_frequency=250,\n",
    "    alpha=0.01,\n",
    "    alpha_decay=0.0001,\n",
    "    layer_size=128,\n",
    "    optimizer=\"adagrad\"\n",
    ")\n",
    "\n",
    "adagrad128_covid.train(train_set, train_truths)\n",
    "adagrad128_covid_confusion_matrix = evaluate_custom(test_set, test_truths, adagrad128_covid)\n",
    "\n",
    "visualize_custom(adagrad128_covid_confusion_matrix)"
   ]
  },
  {
   "cell_type": "markdown",
   "metadata": {},
   "source": [
    "##### Adam"
   ]
  },
  {
   "cell_type": "code",
   "execution_count": 157,
   "metadata": {},
   "outputs": [
    {
     "name": "stdout",
     "output_type": "stream",
     "text": [
      "0: loss: 4.7886, accuracy: 0.6545, learning_rate: 0.01\n",
      "250: loss: 1.6624, accuracy: 0.7396, learning_rate: 0.0098\n",
      "500: loss: 0.9234, accuracy: 0.7781, learning_rate: 0.0095\n",
      "750: loss: 0.6351, accuracy: 0.7974, learning_rate: 0.0093\n",
      "1000: loss: 0.4792, accuracy: 0.8126, learning_rate: 0.0091\n",
      "1250: loss: 0.4002, accuracy: 0.8338, learning_rate: 0.0089\n",
      "Finished learning. Accuracy: 0.867274569402229.\n",
      "=======================\n",
      "RESULTS:\n",
      "\n",
      "    TP: 53,\n",
      "    TN: 255,\n",
      "    FP: 47,\n",
      "    FN: 67\n",
      "    accuracy: 308 / 422 = 72.99%\n",
      "    sensitivity: 0.44\n",
      "    specificity: 0.84\n",
      "    \n"
     ]
    },
    {
     "data": {
      "image/png": "[encoded data removed]",
      "text/plain": [
       "<Figure size 432x288 with 2 Axes>"
      ]
     },
     "metadata": {
      "needs_background": "light"
     },
     "output_type": "display_data"
    }
   ],
   "source": [
    "# Create a neural network\n",
    "adam128_covid = BasicNeuralNetwork(\n",
    "    input_size=train_set.shape[1],\n",
    "    output_size=2,\n",
    "    iterations=1500,\n",
    "    logs=True,\n",
    "    log_frequency=250,\n",
    "    alpha=0.01,\n",
    "    alpha_decay=0.0001,\n",
    "    layer_size=128,\n",
    "    optimizer=\"adam\"\n",
    ")\n",
    "\n",
    "adam128_covid.train(train_set, train_truths)\n",
    "adam128_covid_confusion_matrix = evaluate_custom(test_set, test_truths, adam128_covid)\n",
    "\n",
    "visualize_custom(adam128_covid_confusion_matrix)"
   ]
  },
  {
   "cell_type": "markdown",
   "metadata": {},
   "source": [
    "##### Random Forest"
   ]
  },
  {
   "cell_type": "code",
   "execution_count": 112,
   "metadata": {},
   "outputs": [
    {
     "name": "stdout",
     "output_type": "stream",
     "text": [
      "Accuracy: 0.8689655172413793\n",
      "Sensitivity: 0.76\n",
      "Specificity: 0.95\n"
     ]
    },
    {
     "data": {
      "image/png": "[encoded data removed]",
      "text/plain": [
       "<Figure size 432x288 with 2 Axes>"
      ]
     },
     "metadata": {
      "needs_background": "light"
     },
     "output_type": "display_data"
    }
   ],
   "source": [
    "(test, pred) = random_forest(df=pd.DataFrame(json.loads(datasets[\"window_4_6\"])), target=\"TARGET\")\n",
    "\n",
    "evaluation = evaluate(test, pred)\n",
    "visualize_confusion_matrix(test, pred)\n",
    "print(evaluation)"
   ]
  },
  {
   "cell_type": "markdown",
   "metadata": {},
   "source": [
    "#### **Time Window 6-12**"
   ]
  },
  {
   "cell_type": "code",
   "execution_count": 113,
   "metadata": {},
   "outputs": [],
   "source": [
    "dataset02 = pd.DataFrame(json.loads(datasets[\"window_6_12\"]))\n",
    "\n",
    "X = dataset02.drop(\"TARGET\", axis=1).to_numpy()\n",
    "\n",
    "y = dataset02[[\"TARGET\"]].to_numpy()\n",
    "y = one_hot(y.T[0], 2)\n",
    "\n",
    "train_set, test_set = split_at_x_percent(X, 70)\n",
    "train_truths, test_truths = split_at_x_percent(y, 70)"
   ]
  },
  {
   "cell_type": "markdown",
   "metadata": {},
   "source": [
    "##### SGD"
   ]
  },
  {
   "cell_type": "code",
   "execution_count": 158,
   "metadata": {},
   "outputs": [
    {
     "name": "stdout",
     "output_type": "stream",
     "text": [
      "0: loss: 8.4483, accuracy: 0.3414, learning_rate: 0.01\n",
      "250: loss: 0.2714, accuracy: 0.8896, learning_rate: 0.0098\n",
      "500: loss: 0.2163, accuracy: 0.9169, learning_rate: 0.0095\n",
      "750: loss: 0.1802, accuracy: 0.9443, learning_rate: 0.0093\n",
      "1000: loss: 0.1525, accuracy: 0.9534, learning_rate: 0.0091\n",
      "1250: loss: 0.1313, accuracy: 0.9635, learning_rate: 0.0089\n",
      "Finished learning. Accuracy: 0.9696048632218845.\n",
      "=======================\n",
      "RESULTS:\n",
      "\n",
      "    TP: 61,\n",
      "    TN: 241,\n",
      "    FP: 61,\n",
      "    FN: 59\n",
      "    accuracy: 302 / 422 = 71.56%\n",
      "    sensitivity: 0.51\n",
      "    specificity: 0.8\n",
      "    \n"
     ]
    },
    {
     "data": {
      "image/png": "[encoded data removed]",
      "text/plain": [
       "<Figure size 432x288 with 2 Axes>"
      ]
     },
     "metadata": {
      "needs_background": "light"
     },
     "output_type": "display_data"
    }
   ],
   "source": [
    "# Create a neural network\n",
    "sgd128_covid = BasicNeuralNetwork(\n",
    "    input_size=train_set.shape[1],\n",
    "    output_size=2,\n",
    "    iterations=1500,\n",
    "    logs=True,\n",
    "    log_frequency=250,\n",
    "    alpha=0.01,\n",
    "    alpha_decay=0.0001,\n",
    "    layer_size=128,\n",
    "    momentum=0.9\n",
    ")\n",
    "\n",
    "sgd128_covid.train(train_set, train_truths)\n",
    "sgd128_covid_confusion_matrix = evaluate_custom(test_set, test_truths, sgd128_covid)\n",
    "\n",
    "visualize_custom(sgd128_covid_confusion_matrix)\n"
   ]
  },
  {
   "cell_type": "markdown",
   "metadata": {},
   "source": [
    "##### AdaGrad"
   ]
  },
  {
   "cell_type": "code",
   "execution_count": 162,
   "metadata": {},
   "outputs": [
    {
     "name": "stdout",
     "output_type": "stream",
     "text": [
      "0: loss: 9.5769, accuracy: 0.3435, learning_rate: 0.01\n",
      "250: loss: 1.9012, accuracy: 0.7345, learning_rate: 0.0098\n",
      "500: loss: 0.9274, accuracy: 0.7923, learning_rate: 0.0095\n",
      "750: loss: 0.6991, accuracy: 0.8156, learning_rate: 0.0093\n",
      "1000: loss: 0.5748, accuracy: 0.8207, learning_rate: 0.0091\n",
      "1250: loss: 0.4998, accuracy: 0.8217, learning_rate: 0.0089\n",
      "Finished learning. Accuracy: 0.828774062816616.\n",
      "=======================\n",
      "RESULTS:\n",
      "\n",
      "    TP: 47,\n",
      "    TN: 270,\n",
      "    FP: 32,\n",
      "    FN: 73\n",
      "    accuracy: 317 / 422 = 75.12%\n",
      "    sensitivity: 0.39\n",
      "    specificity: 0.89\n",
      "    \n"
     ]
    },
    {
     "data": {
      "image/png": "[encoded data removed]",
      "text/plain": [
       "<Figure size 432x288 with 2 Axes>"
      ]
     },
     "metadata": {
      "needs_background": "light"
     },
     "output_type": "display_data"
    }
   ],
   "source": [
    "# Create a neural network\n",
    "adagrad128_covid = BasicNeuralNetwork(\n",
    "    input_size=train_set.shape[1],\n",
    "    output_size=2,\n",
    "    iterations=1500,\n",
    "    logs=True,\n",
    "    log_frequency=250,\n",
    "    alpha=0.01,\n",
    "    alpha_decay=0.0001,\n",
    "    layer_size=128,\n",
    "    optimizer=\"adagrad\"\n",
    ")\n",
    "\n",
    "adagrad128_covid.train(train_set, train_truths)\n",
    "adagrad128_covid_confusion_matrix = evaluate_custom(test_set, test_truths, adagrad128_covid)\n",
    "\n",
    "visualize_custom(adagrad128_covid_confusion_matrix)"
   ]
  },
  {
   "cell_type": "markdown",
   "metadata": {},
   "source": [
    "##### Adam"
   ]
  },
  {
   "cell_type": "code",
   "execution_count": 163,
   "metadata": {},
   "outputs": [
    {
     "name": "stdout",
     "output_type": "stream",
     "text": [
      "0: loss: 3.1919, accuracy: 0.536, learning_rate: 0.01\n",
      "250: loss: 1.2863, accuracy: 0.7031, learning_rate: 0.0098\n",
      "500: loss: 0.7085, accuracy: 0.7812, learning_rate: 0.0095\n",
      "750: loss: 0.5509, accuracy: 0.8116, learning_rate: 0.0093\n",
      "1000: loss: 0.4644, accuracy: 0.8227, learning_rate: 0.0091\n",
      "1250: loss: 0.4106, accuracy: 0.8338, learning_rate: 0.0089\n",
      "Finished learning. Accuracy: 0.8449848024316109.\n",
      "=======================\n",
      "RESULTS:\n",
      "\n",
      "    TP: 79,\n",
      "    TN: 215,\n",
      "    FP: 87,\n",
      "    FN: 41\n",
      "    accuracy: 294 / 422 = 69.67%\n",
      "    sensitivity: 0.66\n",
      "    specificity: 0.71\n",
      "    \n"
     ]
    },
    {
     "data": {
      "image/png": "[encoded data removed]",
      "text/plain": [
       "<Figure size 432x288 with 2 Axes>"
      ]
     },
     "metadata": {
      "needs_background": "light"
     },
     "output_type": "display_data"
    }
   ],
   "source": [
    "# Create a neural network\n",
    "adam128_covid = BasicNeuralNetwork(\n",
    "    input_size=train_set.shape[1],\n",
    "    output_size=2,\n",
    "    iterations=1500,\n",
    "    logs=True,\n",
    "    log_frequency=250,\n",
    "    alpha=0.01,\n",
    "    alpha_decay=0.0001,\n",
    "    layer_size=128,\n",
    "    optimizer=\"adam\"\n",
    ")\n",
    "\n",
    "adam128_covid.train(train_set, train_truths)\n",
    "adam128_covid_confusion_matrix = evaluate_custom(test_set, test_truths, adam128_covid)\n",
    "\n",
    "visualize_custom(adam128_covid_confusion_matrix)"
   ]
  },
  {
   "cell_type": "markdown",
   "metadata": {},
   "source": [
    "##### Random Forest"
   ]
  },
  {
   "cell_type": "code",
   "execution_count": 117,
   "metadata": {},
   "outputs": [
    {
     "name": "stdout",
     "output_type": "stream",
     "text": [
      "Accuracy: 0.8989071038251366\n",
      "Sensitivity: 0.8\n",
      "Specificity: 0.95\n"
     ]
    },
    {
     "data": {
      "image/png": "[encoded data removed]",
      "text/plain": [
       "<Figure size 432x288 with 2 Axes>"
      ]
     },
     "metadata": {
      "needs_background": "light"
     },
     "output_type": "display_data"
    }
   ],
   "source": [
    "(test, pred) = random_forest(df=pd.DataFrame(json.loads(datasets[\"window_6_12\"])), target=\"TARGET\")\n",
    "\n",
    "evaluation = evaluate(test, pred)\n",
    "visualize_confusion_matrix(test, pred)\n",
    "print(evaluation)"
   ]
  },
  {
   "cell_type": "markdown",
   "metadata": {},
   "source": [
    "#### **Time Window All**"
   ]
  },
  {
   "cell_type": "code",
   "execution_count": 118,
   "metadata": {},
   "outputs": [],
   "source": [
    "dataset02 = pd.DataFrame(json.loads(datasets[\"window_all\"]))\n",
    "\n",
    "X = dataset02.drop(\"TARGET\", axis=1).to_numpy()\n",
    "\n",
    "y = dataset02[[\"TARGET\"]].to_numpy()\n",
    "y = one_hot(y.T[0], 2)\n",
    "\n",
    "train_set, test_set = split_at_x_percent(X, 70)\n",
    "train_truths, test_truths = split_at_x_percent(y, 70)"
   ]
  },
  {
   "cell_type": "markdown",
   "metadata": {},
   "source": [
    "##### SGD"
   ]
  },
  {
   "cell_type": "code",
   "execution_count": 164,
   "metadata": {},
   "outputs": [
    {
     "name": "stdout",
     "output_type": "stream",
     "text": [
      "0: loss: 5.3136, accuracy: 0.6555, learning_rate: 0.01\n",
      "250: loss: 0.2971, accuracy: 0.8784, learning_rate: 0.0098\n",
      "500: loss: 0.2475, accuracy: 0.9058, learning_rate: 0.0095\n",
      "750: loss: 0.2134, accuracy: 0.921, learning_rate: 0.0093\n",
      "1000: loss: 0.1845, accuracy: 0.9321, learning_rate: 0.0091\n",
      "1250: loss: 0.1606, accuracy: 0.9463, learning_rate: 0.0089\n",
      "1500: loss: 0.1407, accuracy: 0.9514, learning_rate: 0.0087\n",
      "1750: loss: 0.1241, accuracy: 0.9615, learning_rate: 0.0085\n",
      "2000: loss: 0.1102, accuracy: 0.9696, learning_rate: 0.0083\n",
      "2250: loss: 0.0982, accuracy: 0.9747, learning_rate: 0.0082\n",
      "Finished learning. Accuracy: 0.977710233029382.\n",
      "=======================\n",
      "RESULTS:\n",
      "\n",
      "    TP: 66,\n",
      "    TN: 230,\n",
      "    FP: 72,\n",
      "    FN: 54\n",
      "    accuracy: 296 / 422 = 70.14%\n",
      "    sensitivity: 0.55\n",
      "    specificity: 0.76\n",
      "    \n"
     ]
    },
    {
     "data": {
      "image/png": "[encoded data removed]",
      "text/plain": [
       "<Figure size 432x288 with 2 Axes>"
      ]
     },
     "metadata": {
      "needs_background": "light"
     },
     "output_type": "display_data"
    }
   ],
   "source": [
    "# Create a neural network\n",
    "sgd128_covid = BasicNeuralNetwork(\n",
    "    input_size=train_set.shape[1],\n",
    "    output_size=2,\n",
    "    iterations=2500,\n",
    "    logs=True,\n",
    "    log_frequency=250,\n",
    "    alpha=0.01,\n",
    "    alpha_decay=0.0001,\n",
    "    layer_size=128,\n",
    "    momentum=0.9\n",
    ")\n",
    "\n",
    "sgd128_covid.train(train_set, train_truths)\n",
    "sgd128_covid_confusion_matrix = evaluate_custom(test_set, test_truths, sgd128_covid)\n",
    "\n",
    "visualize_custom(sgd128_covid_confusion_matrix)\n"
   ]
  },
  {
   "cell_type": "markdown",
   "metadata": {},
   "source": [
    "##### AdaGrad"
   ]
  },
  {
   "cell_type": "code",
   "execution_count": 165,
   "metadata": {},
   "outputs": [
    {
     "name": "stdout",
     "output_type": "stream",
     "text": [
      "0: loss: 3.5795, accuracy: 0.4995, learning_rate: 0.01\n",
      "250: loss: 1.191, accuracy: 0.7042, learning_rate: 0.0098\n",
      "500: loss: 0.6865, accuracy: 0.7649, learning_rate: 0.0095\n",
      "750: loss: 0.5067, accuracy: 0.7943, learning_rate: 0.0093\n",
      "1000: loss: 0.4149, accuracy: 0.8186, learning_rate: 0.0091\n",
      "1250: loss: 0.368, accuracy: 0.8409, learning_rate: 0.0089\n",
      "Finished learning. Accuracy: 0.8581560283687943.\n",
      "=======================\n",
      "RESULTS:\n",
      "\n",
      "    TP: 69,\n",
      "    TN: 229,\n",
      "    FP: 73,\n",
      "    FN: 51\n",
      "    accuracy: 298 / 422 = 70.62%\n",
      "    sensitivity: 0.57\n",
      "    specificity: 0.76\n",
      "    \n"
     ]
    },
    {
     "data": {
      "image/png": "[encoded data removed]",
      "text/plain": [
       "<Figure size 432x288 with 2 Axes>"
      ]
     },
     "metadata": {
      "needs_background": "light"
     },
     "output_type": "display_data"
    }
   ],
   "source": [
    "# Create a neural network\n",
    "adagrad128_covid = BasicNeuralNetwork(\n",
    "    input_size=train_set.shape[1],\n",
    "    output_size=2,\n",
    "    iterations=1500,\n",
    "    logs=True,\n",
    "    log_frequency=250,\n",
    "    alpha=0.01,\n",
    "    alpha_decay=0.0001,\n",
    "    layer_size=128,\n",
    "    optimizer=\"adagrad\"\n",
    ")\n",
    "\n",
    "adagrad128_covid.train(train_set, train_truths)\n",
    "adagrad128_covid_confusion_matrix = evaluate_custom(test_set, test_truths, adagrad128_covid)\n",
    "\n",
    "visualize_custom(adagrad128_covid_confusion_matrix)"
   ]
  },
  {
   "cell_type": "markdown",
   "metadata": {},
   "source": [
    "##### Adam"
   ]
  },
  {
   "cell_type": "code",
   "execution_count": 167,
   "metadata": {},
   "outputs": [
    {
     "name": "stdout",
     "output_type": "stream",
     "text": [
      "0: loss: 10.0505, accuracy: 0.3435, learning_rate: 0.01\n",
      "250: loss: 1.509, accuracy: 0.7052, learning_rate: 0.0098\n",
      "500: loss: 0.8704, accuracy: 0.7751, learning_rate: 0.0095\n",
      "750: loss: 0.641, accuracy: 0.8065, learning_rate: 0.0093\n",
      "1000: loss: 0.5243, accuracy: 0.8267, learning_rate: 0.0091\n",
      "1250: loss: 0.4479, accuracy: 0.847, learning_rate: 0.0089\n",
      "Finished learning. Accuracy: 0.8409321175278622.\n",
      "=======================\n",
      "RESULTS:\n",
      "\n",
      "    TP: 80,\n",
      "    TN: 216,\n",
      "    FP: 86,\n",
      "    FN: 40\n",
      "    accuracy: 296 / 422 = 70.14%\n",
      "    sensitivity: 0.67\n",
      "    specificity: 0.72\n",
      "    \n"
     ]
    },
    {
     "data": {
      "image/png": "[encoded data removed]",
      "text/plain": [
       "<Figure size 432x288 with 2 Axes>"
      ]
     },
     "metadata": {
      "needs_background": "light"
     },
     "output_type": "display_data"
    }
   ],
   "source": [
    "# Create a neural network\n",
    "adam128_covid = BasicNeuralNetwork(\n",
    "    input_size=train_set.shape[1],\n",
    "    output_size=2,\n",
    "    iterations=1500,\n",
    "    logs=True,\n",
    "    log_frequency=250,\n",
    "    alpha=0.01,\n",
    "    alpha_decay=0.0001,\n",
    "    layer_size=128,\n",
    "    optimizer=\"adam\"\n",
    ")\n",
    "\n",
    "adam128_covid.train(train_set, train_truths)\n",
    "adam128_covid_confusion_matrix = evaluate_custom(test_set, test_truths, adam128_covid)\n",
    "\n",
    "visualize_custom(adam128_covid_confusion_matrix)"
   ]
  },
  {
   "cell_type": "markdown",
   "metadata": {},
   "source": [
    "##### Random Forest"
   ]
  },
  {
   "cell_type": "code",
   "execution_count": 168,
   "metadata": {},
   "outputs": [
    {
     "name": "stdout",
     "output_type": "stream",
     "text": [
      "Accuracy: 0.9219858156028369\n",
      "Sensitivity: 0.82\n",
      "Specificity: 0.97\n"
     ]
    },
    {
     "data": {
      "image/png": "[encoded data removed]",
      "text/plain": [
       "<Figure size 432x288 with 2 Axes>"
      ]
     },
     "metadata": {
      "needs_background": "light"
     },
     "output_type": "display_data"
    }
   ],
   "source": [
    "(test, pred) = random_forest(df=pd.DataFrame(json.loads(datasets[\"window_all\"])), target=\"TARGET\")\n",
    "\n",
    "evaluation = evaluate(test, pred)\n",
    "visualize_confusion_matrix(test, pred)\n",
    "print(evaluation)"
   ]
  },
  {
   "cell_type": "markdown",
   "metadata": {},
   "source": [
    "### Result table\n",
    "\n",
    "#### Accuracy\n",
    "\n",
    "| **Algorithm** | **0-2** | **2-4** | **4-6** | **6-12** | **All** |\n",
    "| ------------- | :-----: | :-----: | :-----: | :------: | :-----: |\n",
    "| NN(*SGD*)     | 65%     | 72%     | 71%     | 72%      | 70%     |\n",
    "| NN(*AdaGrad*) | **67%** | 73%     | 68%     | **75%**  | 71%     |\n",
    "| NN(*Adam*)    | 57%     | **75%** | **73%** | 70%      | 70%     |\n",
    "|*Random Forest*| *68%*   | *78%*   | *87%*   | *90%*    | *89%*   |\n",
    "\n",
    "\n",
    "#### Sensitivity\n",
    "\n",
    "| **Algorithm** | **0-2** | **2-4** | **4-6** | **6-12** | **All** |\n",
    "| ------------- | :-----: | :-----: | :-----: | :------: | :-----: |\n",
    "| NN(*SGD*)     | **66%** | **51%** | 48%     | 51%      | 55%     |\n",
    "| NN(*AdaGrad*) | **66%** | 41%     | **64%** | 39%      | 57%     |\n",
    "| NN(*Adam*)    | 41%     | 46%     | 44%     | **66%**  | **67%** |\n",
    "|*Random Forest*| *57%*   | *70%*   | *76%*   | *80%*    | *82%*   |\n",
    "\n",
    "#### Specificity\n",
    "\n",
    "| **Algorithm** | **0-2** | **2-4** | **4-6** | **6-12** | **All** |\n",
    "| ------------- | :-----: | :-----: | :-----: | :------: | :-----: |\n",
    "| NN(*SGD*)     | 64%     | 80%     | 80%     | 80%      | **76%** |\n",
    "| NN(*AdaGrad*) | **67%** | 86%     | 69%     | **89%**  | **76%** |\n",
    "| NN(*Adam*)    | **67%** | **88%** | **84%** | 71%      | 72%     |\n",
    "|*Random Forest*| *80%*   | *85%*   | *95%*   | *95%*    | *97%*   |"
   ]
  }
 ],
 "metadata": {
  "interpreter": {
   "hash": "bb0554d9c886063c2300e6d29d1b971f9021cb873aeef0a3a001aed34f0acc3f"
  },
  "kernelspec": {
   "display_name": "Python 3.10.0 64-bit",
   "language": "python",
   "name": "python3"
  },
  "language_info": {
   "codemirror_mode": {
    "name": "ipython",
    "version": 3
   },
   "file_extension": ".py",
   "mimetype": "text/x-python",
   "name": "python",
   "nbconvert_exporter": "python",
   "pygments_lexer": "ipython3",
   "version": "3.10.0"
  },
  "orig_nbformat": 4
 },
 "nbformat": 4,
 "nbformat_minor": 2
}
